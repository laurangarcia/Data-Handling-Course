{
 "cells": [
  {
   "cell_type": "markdown",
   "metadata": {
    "cell_id": "52ea6339309a49d8983ed140ccd88242",
    "deepnote_app_coordinates": {
     "h": 5,
     "w": 12,
     "x": 0,
     "y": 1
    },
    "deepnote_cell_height": 134,
    "deepnote_cell_type": "markdown",
    "tags": []
   },
   "source": [
    "# Curso de Manejo de Datos Faltantes: Imputación"
   ]
  },
  {
   "cell_type": "markdown",
   "metadata": {
    "cell_id": "e00ab3e0180f4d3b9208b47c4094d8b2",
    "deepnote_app_coordinates": {
     "h": 5,
     "w": 12,
     "x": 0,
     "y": 0
    },
    "deepnote_cell_type": "markdown",
    "deepnote_to_be_reexecuted": false,
    "execution_millis": 1,
    "execution_start": 1657216113977,
    "source_hash": "b8c03480",
    "tags": []
   },
   "source": [
    "[![Curso creado por jvelezmagic](https://img.shields.io/badge/Desarrollado%20por-%40jvelezmagic-blue?&style=for-the-badge&logo=data:image/png;base64,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)](https://jvelezmagic.com/)\n",
    "\n",
    "![Curso de Manejo de Datos Faltantes: Exploración](course-logo.jpg)"
   ]
  },
  {
   "cell_type": "markdown",
   "metadata": {
    "cell_id": "c68445b0c46a418998a760f1a2a6018b",
    "deepnote_app_coordinates": {
     "h": 5,
     "w": 12,
     "x": 0,
     "y": 13
    },
    "deepnote_cell_height": 70,
    "deepnote_cell_type": "markdown",
    "tags": []
   },
   "source": [
    "## Configuración de ambiente de trabajo"
   ]
  },
  {
   "cell_type": "markdown",
   "metadata": {
    "cell_id": "fc318b78948148058018c2a2b068d8d8",
    "deepnote_app_coordinates": {
     "h": 5,
     "w": 12,
     "x": 0,
     "y": 19
    },
    "deepnote_cell_height": 72.390625,
    "deepnote_cell_type": "markdown",
    "tags": []
   },
   "source": [
    "```bash\n",
    "pip install --upgrade pip\n",
    "```"
   ]
  },
  {
   "cell_type": "markdown",
   "metadata": {
    "cell_id": "7eea897742344e0798ef8fbdaa688162",
    "deepnote_app_coordinates": {
     "h": 5,
     "w": 12,
     "x": 0,
     "y": 25
    },
    "deepnote_cell_height": 173.578125,
    "deepnote_cell_type": "markdown",
    "tags": []
   },
   "source": [
    "```bash\n",
    "pip install pyjanitor matplotlib missingno nhanes pandas scipy seaborn session-info sklearn statsmodels upsetplot\n",
    "```\n",
    "\n",
    "or \n",
    "\n",
    "```bash\n",
    "pip install -r requirements.txt\n",
    "```"
   ]
  },
  {
   "cell_type": "markdown",
   "metadata": {
    "cell_id": "a274d24fb8bc4387b1929367f2e3fa42",
    "deepnote_app_coordinates": {
     "h": 5,
     "w": 12,
     "x": 0,
     "y": 31
    },
    "deepnote_cell_height": 70,
    "deepnote_cell_type": "markdown",
    "tags": []
   },
   "source": [
    "## Importar librerías"
   ]
  },
  {
   "cell_type": "code",
   "execution_count": 81,
   "metadata": {
    "cell_id": "3515c98b5bad4008ade54bc347a8f3aa",
    "deepnote_app_coordinates": {
     "h": 5,
     "w": 12,
     "x": 0,
     "y": 37
    },
    "deepnote_cell_type": "code",
    "deepnote_to_be_reexecuted": false,
    "execution_millis": 2110,
    "execution_start": 1659738633842,
    "output_cleared": true,
    "source_hash": "5a40ea29",
    "tags": []
   },
   "outputs": [],
   "source": [
    "import janitor\n",
    "import matplotlib.pyplot as plt\n",
    "import missingno\n",
    "import nhanes.load\n",
    "import numpy as np\n",
    "import pandas as pd\n",
    "import scipy.stats\n",
    "import seaborn as sns\n",
    "import session_info\n",
    "import sklearn.compose\n",
    "import sklearn.impute\n",
    "import sklearn.preprocessing\n",
    "import statsmodels.api as sm\n",
    "import statsmodels.datasets\n",
    "import statsmodels.formula.api as smf\n",
    "\n",
    "from sklearn.ensemble import RandomForestRegressor\n",
    "from sklearn.experimental import enable_iterative_imputer\n",
    "from sklearn.kernel_approximation import Nystroem\n",
    "from sklearn.linear_model import BayesianRidge, Ridge\n",
    "from sklearn.neighbors import KNeighborsRegressor\n",
    "from statsmodels.graphics.mosaicplot import mosaic"
   ]
  },
  {
   "cell_type": "markdown",
   "metadata": {
    "cell_id": "977027a1df7e4f188c9c5f0f2d031276",
    "deepnote_app_coordinates": {
     "h": 5,
     "w": 12,
     "x": 0,
     "y": 43
    },
    "deepnote_cell_height": 70,
    "deepnote_cell_type": "markdown",
    "tags": []
   },
   "source": [
    "## Importar funciones personalizadas"
   ]
  },
  {
   "cell_type": "code",
   "execution_count": 8,
   "metadata": {
    "cell_id": "bf125cb5b4394eb7bd4a06e5c1410ceb",
    "deepnote_app_coordinates": {
     "h": 5,
     "w": 12,
     "x": 0,
     "y": 49
    },
    "deepnote_cell_type": "code",
    "deepnote_to_be_reexecuted": false,
    "execution_millis": 157,
    "execution_start": 1659738635968,
    "output_cleared": true,
    "source_hash": "6ec9e095",
    "tags": []
   },
   "outputs": [],
   "source": [
    "%run pandas-missing-extension.py"
   ]
  },
  {
   "cell_type": "markdown",
   "metadata": {
    "cell_id": "0216337767da41abb0d0cf8fcab2f703",
    "deepnote_app_coordinates": {
     "h": 5,
     "w": 12,
     "x": 0,
     "y": 55
    },
    "deepnote_cell_height": 110,
    "deepnote_cell_type": "markdown",
    "tags": []
   },
   "source": [
    "## Configurar el aspecto general de las gráficas del proyecto"
   ]
  },
  {
   "cell_type": "code",
   "execution_count": 9,
   "metadata": {
    "cell_id": "2352294fbdce41e39c8a26486630adaf",
    "deepnote_app_coordinates": {
     "h": 5,
     "w": 12,
     "x": 0,
     "y": 61
    },
    "deepnote_cell_type": "code",
    "deepnote_to_be_reexecuted": false,
    "execution_millis": 15,
    "execution_start": 1659738636130,
    "output_cleared": true,
    "source_hash": "d99adf41",
    "tags": []
   },
   "outputs": [],
   "source": [
    "%matplotlib inline\n",
    "\n",
    "sns.set(\n",
    "    rc={\n",
    "        \"figure.figsize\": (8, 6)\n",
    "    }\n",
    ")\n",
    "\n",
    "sns.set_style(\"whitegrid\")"
   ]
  },
  {
   "cell_type": "markdown",
   "metadata": {
    "cell_id": "09d0eba6d3ce4b45b1d2f241179fadf6",
    "deepnote_app_coordinates": {
     "h": 5,
     "w": 12,
     "x": 0,
     "y": 661
    },
    "deepnote_cell_height": 70,
    "deepnote_cell_type": "markdown",
    "tags": []
   },
   "source": [
    "## El problema de trabajar con valores faltantes"
   ]
  },
  {
   "cell_type": "code",
   "execution_count": null,
   "metadata": {
    "cell_id": "0e254a3de34c495289bbf3f880460cb1",
    "deepnote_app_coordinates": {
     "h": 5,
     "w": 12,
     "x": 0,
     "y": 0
    },
    "deepnote_cell_type": "code",
    "deepnote_to_be_reexecuted": false,
    "execution_millis": 472,
    "execution_start": 1659738636156,
    "output_cleared": true,
    "source_hash": "cc80e909",
    "tags": []
   },
   "outputs": [],
   "source": []
  },
  {
   "cell_type": "code",
   "execution_count": null,
   "metadata": {
    "cell_id": "4f0f5892f1e5452cba74ef9d6181c1c9",
    "deepnote_app_coordinates": {
     "h": 5,
     "w": 12,
     "x": 0,
     "y": 0
    },
    "deepnote_cell_type": "code",
    "deepnote_to_be_reexecuted": false,
    "execution_millis": 144,
    "execution_start": 1659738636486,
    "output_cleared": true,
    "source_hash": "ea9a19c4",
    "tags": []
   },
   "outputs": [],
   "source": []
  },
  {
   "cell_type": "code",
   "execution_count": null,
   "metadata": {
    "cell_id": "b2a7377e06ad493bb504315f69978c28",
    "deepnote_app_coordinates": {
     "h": 5,
     "w": 12,
     "x": 0,
     "y": 0
    },
    "deepnote_cell_type": "code",
    "deepnote_to_be_reexecuted": false,
    "execution_millis": 118,
    "execution_start": 1659738636513,
    "output_cleared": true,
    "source_hash": "47aa28ea",
    "tags": []
   },
   "outputs": [],
   "source": []
  },
  {
   "cell_type": "markdown",
   "metadata": {
    "cell_id": "1f71fe7935f14d6da202e23fc95c1355",
    "deepnote_app_coordinates": {
     "h": 5,
     "w": 12,
     "x": 0,
     "y": 0
    },
    "deepnote_cell_height": 62,
    "deepnote_cell_type": "markdown",
    "tags": []
   },
   "source": [
    "### Reto: Datos de supervivientes"
   ]
  },
  {
   "cell_type": "code",
   "execution_count": 10,
   "metadata": {
    "cell_id": "d9d8391482dd4ecbb11a1e3167304719",
    "deepnote_app_coordinates": {
     "h": 5,
     "w": 12,
     "x": 0,
     "y": 0
    },
    "deepnote_cell_type": "code",
    "deepnote_to_be_reexecuted": false,
    "execution_millis": 184,
    "execution_start": 1659738636532,
    "output_cleared": true,
    "source_hash": "2012f9f9",
    "tags": []
   },
   "outputs": [],
   "source": [
    "survival_df = sm.datasets.get_rdataset(\"flchain\", \"survival\").data"
   ]
  },
  {
   "cell_type": "markdown",
   "metadata": {
    "cell_id": "15a67111e1e447b4b8dc34850dd5eff2",
    "deepnote_app_coordinates": {
     "h": 5,
     "w": 12,
     "x": 0,
     "y": 0
    },
    "deepnote_cell_height": 74.78125,
    "deepnote_cell_type": "markdown",
    "tags": []
   },
   "source": [
    "Ajusta algunos modelos utilizando a las variables con valores faltantes como predictoras. ¿Qué sucede?"
   ]
  },
  {
   "cell_type": "code",
   "execution_count": null,
   "metadata": {
    "cell_id": "f4b502215f0b4fdeb4aca6d9b86ed92b",
    "deepnote_app_coordinates": {
     "h": 5,
     "w": 12,
     "x": 0,
     "y": 0
    },
    "deepnote_cell_type": "code",
    "deepnote_to_be_reexecuted": false,
    "execution_millis": 2,
    "execution_start": 1659738636726,
    "output_cleared": true,
    "source_hash": "2a906483",
    "tags": []
   },
   "outputs": [],
   "source": [
    "# Aquí tu código..."
   ]
  },
  {
   "cell_type": "markdown",
   "metadata": {
    "cell_id": "74922f27da16404f837f86f1825b38cc",
    "deepnote_app_coordinates": {
     "h": 5,
     "w": 12,
     "x": 0,
     "y": 0
    },
    "deepnote_cell_height": 110,
    "deepnote_cell_type": "markdown",
    "tags": []
   },
   "source": [
    "## Preparando datos: _National Health and Nutrition Examination Survey_"
   ]
  },
  {
   "cell_type": "code",
   "execution_count": 16,
   "metadata": {
    "cell_id": "aae901f7ed2b4376be560b0dc13225d5",
    "deepnote_cell_type": "code",
    "deepnote_to_be_reexecuted": false,
    "execution_millis": 1644,
    "execution_start": 1659738636741,
    "output_cleared": true,
    "source_hash": "a9876b5b",
    "tags": []
   },
   "outputs": [
    {
     "name": "stderr",
     "output_type": "stream",
     "text": [
      "c:\\Users\\Admin\\Documents\\manejo_datos\\Data-Handling-Course\\venv\\Lib\\site-packages\\pandas_flavor\\register.py:164: FutureWarning: This function will be deprecated in a 1.x release. Please use `jn.select` instead.\n",
      "  return method(self._obj, *args, **kwargs)\n",
      "c:\\Users\\Admin\\Documents\\manejo_datos\\Data-Handling-Course\\venv\\Lib\\site-packages\\pandas_flavor\\register.py:164: FutureWarning: This function will be deprecated in a 1.x release. Please use `pd.DataFrame.rename` instead.\n",
      "  return method(self._obj, *args, **kwargs)\n",
      "c:\\Users\\Admin\\Documents\\manejo_datos\\Data-Handling-Course\\venv\\Lib\\site-packages\\upsetplot\\plotting.py:795: FutureWarning: A value is trying to be set on a copy of a DataFrame or Series through chained assignment using an inplace method.\n",
      "The behavior will change in pandas 3.0. This inplace method will never work because the intermediate object on which we are setting values always behaves as a copy.\n",
      "\n",
      "For example, when doing 'df[col].method(value, inplace=True)', try using 'df.method({col: value}, inplace=True)' or df[col] = df[col].method(value) instead, to perform the operation inplace on the original object.\n",
      "\n",
      "\n",
      "  styles[\"linewidth\"].fillna(1, inplace=True)\n",
      "c:\\Users\\Admin\\Documents\\manejo_datos\\Data-Handling-Course\\venv\\Lib\\site-packages\\upsetplot\\plotting.py:796: FutureWarning: A value is trying to be set on a copy of a DataFrame or Series through chained assignment using an inplace method.\n",
      "The behavior will change in pandas 3.0. This inplace method will never work because the intermediate object on which we are setting values always behaves as a copy.\n",
      "\n",
      "For example, when doing 'df[col].method(value, inplace=True)', try using 'df.method({col: value}, inplace=True)' or df[col] = df[col].method(value) instead, to perform the operation inplace on the original object.\n",
      "\n",
      "\n",
      "  styles[\"facecolor\"].fillna(self._facecolor, inplace=True)\n",
      "c:\\Users\\Admin\\Documents\\manejo_datos\\Data-Handling-Course\\venv\\Lib\\site-packages\\upsetplot\\plotting.py:797: FutureWarning: A value is trying to be set on a copy of a DataFrame or Series through chained assignment using an inplace method.\n",
      "The behavior will change in pandas 3.0. This inplace method will never work because the intermediate object on which we are setting values always behaves as a copy.\n",
      "\n",
      "For example, when doing 'df[col].method(value, inplace=True)', try using 'df.method({col: value}, inplace=True)' or df[col] = df[col].method(value) instead, to perform the operation inplace on the original object.\n",
      "\n",
      "\n",
      "  styles[\"edgecolor\"].fillna(styles[\"facecolor\"], inplace=True)\n",
      "c:\\Users\\Admin\\Documents\\manejo_datos\\Data-Handling-Course\\venv\\Lib\\site-packages\\upsetplot\\plotting.py:798: FutureWarning: A value is trying to be set on a copy of a DataFrame or Series through chained assignment using an inplace method.\n",
      "The behavior will change in pandas 3.0. This inplace method will never work because the intermediate object on which we are setting values always behaves as a copy.\n",
      "\n",
      "For example, when doing 'df[col].method(value, inplace=True)', try using 'df.method({col: value}, inplace=True)' or df[col] = df[col].method(value) instead, to perform the operation inplace on the original object.\n",
      "\n",
      "\n",
      "  styles[\"linestyle\"].fillna(\"solid\", inplace=True)\n"
     ]
    },
    {
     "data": {
      "text/plain": [
       "(7157, 8)"
      ]
     },
     "execution_count": 16,
     "metadata": {},
     "output_type": "execute_result"
    },
    {
     "data": {
      "image/png": "[encoded data removed]",
      "text/plain": [
       "<Figure size 2500x1000 with 2 Axes>"
      ]
     },
     "metadata": {},
     "output_type": "display_data"
    },
    {
     "data": {
      "image/png": "[encoded data removed]",
      "text/plain": [
       "<Figure size 1555.56x622.222 with 4 Axes>"
      ]
     },
     "metadata": {},
     "output_type": "display_data"
    },
    {
     "data": {
      "image/png": "[encoded data removed]",
      "text/plain": [
       "<Figure size 2500x1000 with 2 Axes>"
      ]
     },
     "metadata": {},
     "output_type": "display_data"
    }
   ],
   "source": [
    "nhanes_raw_df= (\n",
    "    nhanes.load.load_NHANES_data(year=\"2017-2018\")\n",
    "    .clean_names(case_type = \"snake\")\n",
    ")\n",
    "\n",
    "nhanes_raw_df.shape\n",
    "\n",
    "# %% [markdown]\n",
    "# ## Procesar los datos de NHANES\n",
    "\n",
    "# %%\n",
    "import numpy as np\n",
    "\n",
    "nhanes_df = (\n",
    "    nhanes_raw_df\n",
    "    .select_columns(\n",
    "        \"general_health_condition\",\n",
    "        \"age_in_years_at_screening\",\n",
    "        \"gender\",\n",
    "        \"current_selfreported_height_inches\",\n",
    "        \"current_selfreported_weight_pounds\",\n",
    "        \"doctor_told_you_have_diabetes\",\n",
    "        \"60_sec_pulse30_sec_pulse2\",\n",
    "        \"total_cholesterol_mgdl\"\n",
    "    )\n",
    "    .rename_columns({\n",
    "        \"age_in_years_at_screening\": \"age\",\n",
    "        \"current_selfreported_height_inches\": \"height\",\n",
    "        \"current_selfreported_weight_pounds\": \"peso\",\n",
    "        \"doctor_told_you_have_diabetes\": \"diabetes\",\n",
    "        \"60_sec_pulse30_sec_pulse2\": \"pulso\",\n",
    "        \"total_cholesterol_mgdl\": \"total_cholesterol\"\n",
    "    })\n",
    "    .replace({\n",
    "        \"height\": {9999: np.nan, 7777: np.nan},\n",
    "        \"peso\": {9999: np.nan, 7777: np.nan},\n",
    "        \"diabetes\": {\"Borderline\": np.nan}\n",
    "    })\n",
    "    .missing.sort_variables_by_missingness()\n",
    "    .dropna(\n",
    "        subset = [\"diabetes\"],\n",
    "        how = \"any\"\n",
    "    )\n",
    "    .transform_column(\n",
    "        column_name = \"diabetes\",\n",
    "        function = lambda s: s.astype(int),\n",
    "        elementwise = False\n",
    "    )\n",
    ")\n",
    "\n",
    "\n",
    "# %% [markdown]\n",
    "# ## Visualizar los valores faltantes\n",
    "\n",
    "# %%\n",
    "(\n",
    "    nhanes_df\n",
    "    .missing.sort_variables_by_missingness()\n",
    "    .pipe(missingno.matrix, sort = \"descending\")\n",
    ")\n",
    "\n",
    "\n",
    "# %% [markdown]\n",
    "# Analizando el gráfico, nos damos cuenta que hay variables que no tienen valores faltantes, osea que hay valores qu aparecen conjuntamente y son faltantes\n",
    "\n",
    "# %%\n",
    "(\n",
    "    nhanes_df\n",
    "    .missing.sort_variables_by_missingness()\n",
    "    .missing.missing_upsetplot()\n",
    ")\n",
    "\n",
    "# %% [markdown]\n",
    "# Reviando la relación de los valores faltantes, podriamos imputarlo o eliminarlo\n",
    "\n",
    "# %%\n",
    "nhanes_df\n",
    "\n",
    "# %%\n",
    "# Aplica dropna pero sin sobrescribir con Axes\n",
    "nhanes_df = (\n",
    "    nhanes_df\n",
    "    .dropna(  # Eliminamos las filas que tengan TODOS esos datos faltantes en las columnas\n",
    "        subset=[\"pulso\", \"total_cholesterol\", \"general_health_condition\", \"peso\", \"height\"], \n",
    "        how=\"all\"\n",
    "    )\n",
    ")\n",
    "\n",
    "# Aplica el método personalizado .missing\n",
    "nhanes_df = nhanes_df.missing.sort_variables_by_missingness()\n",
    "\n",
    "# Luego visualiza, pero sin sobrescribir nhanes_df\n",
    "missingno.matrix(nhanes_df, sort=\"descending\")\n",
    "\n",
    "\n",
    "# %% [markdown]\n",
    "# ## Eliminar valores faltantes\n",
    "\n",
    "# %%\n",
    "nhanes_df.shape\n"
   ]
  },
  {
   "cell_type": "markdown",
   "metadata": {
    "cell_id": "14f6e3cf589a4592b9f285f1c64ad5b5",
    "deepnote_app_coordinates": {
     "h": 5,
     "w": 12,
     "x": 0,
     "y": 672
    },
    "deepnote_cell_height": 110,
    "deepnote_cell_type": "markdown",
    "tags": []
   },
   "source": [
    "## Consideración y evaluación de los distintos tipos de valores faltantes"
   ]
  },
  {
   "cell_type": "markdown",
   "metadata": {
    "cell_id": "b6c834d6341a43e9a73c58ab5ac2aedf",
    "deepnote_app_coordinates": {
     "h": 5,
     "w": 12,
     "x": 0,
     "y": 0
    },
    "deepnote_cell_height": 555.25,
    "deepnote_cell_type": "markdown",
    "tags": []
   },
   "source": [
    "![](missing_data_action.jpeg)"
   ]
  },
  {
   "cell_type": "markdown",
   "metadata": {
    "cell_id": "0227df0dcfe24c848b6013fe2ff7d006",
    "deepnote_app_coordinates": {
     "h": 5,
     "w": 12,
     "x": 0,
     "y": 0
    },
    "deepnote_cell_height": 110,
    "deepnote_cell_type": "markdown",
    "tags": []
   },
   "source": [
    "## Evaluación del mecanismo de valores faltantes por prueba de _t-test_"
   ]
  },
  {
   "cell_type": "markdown",
   "metadata": {
    "cell_id": "56c1bb0440b745b4ad88e3e99bf2ae11",
    "deepnote_app_coordinates": {
     "h": 5,
     "w": 12,
     "x": 0,
     "y": 0
    },
    "deepnote_cell_height": 392.734375,
    "deepnote_cell_type": "markdown",
    "tags": []
   },
   "source": [
    "<div class=\"alert alert-info\">\n",
    "    <b style=\"font-size: 1.5em;\">📘 Información</b>\n",
    "    <p>\n",
    "<code>two-sided</code>: las <b>medias</b> de las distribuciones subyacentes a las muestras son <b>desiguales</b>.<br>\n",
    "<code>less</code>: la <b>media</b> de la distribución subyacente a la <b>primera</b> muestra es <b>menor</b> que la media de la distribución subyacente a la <b>segunda</b> muestra.<br>\n",
    "<code>greater</code>: la <b>media</b> de la distribución subyacente a la <b>primera</b> muestra es <b>mayor</b> que la media de la distribución subyacente a la <b>segunda</b> muestra.<br>\n",
    "    </p>\n",
    "</div>"
   ]
  },
  {
   "cell_type": "code",
   "execution_count": 26,
   "metadata": {
    "cell_id": "a7dbb08b1b584f1eb99dfdf67f5f7283",
    "deepnote_app_coordinates": {
     "h": 5,
     "w": 12,
     "x": 0,
     "y": 0
    },
    "deepnote_cell_type": "code",
    "deepnote_to_be_reexecuted": false,
    "execution_millis": 5,
    "execution_start": 1659739103655,
    "output_cleared": true,
    "source_hash": "6d99394a",
    "tags": []
   },
   "outputs": [
    {
     "name": "stderr",
     "output_type": "stream",
     "text": [
      "c:\\Users\\Admin\\Documents\\manejo_datos\\Data-Handling-Course\\venv\\Lib\\site-packages\\pandas_flavor\\register.py:164: FutureWarning: This function will be deprecated in a 1.x release. Please use `jn.select` instead.\n",
      "  return method(self._obj, *args, **kwargs)\n"
     ]
    },
    {
     "data": {
      "text/plain": [
       "TtestResult(statistic=np.float64(-0.3621032192538131), pvalue=np.float64(0.7172855918077239), df=np.float64(7155.0))"
      ]
     },
     "execution_count": 26,
     "metadata": {},
     "output_type": "execute_result"
    }
   ],
   "source": [
    "female_weight, male_weight = (\n",
    "    nhanes_df\n",
    "    .select_columns(\"gender\", \"peso\")\n",
    "    .transform_column(\n",
    "        \"peso\",\n",
    "        lambda x : x.isna(),\n",
    "        elementwise = False \n",
    "    )\n",
    "    .groupby(\"gender\")\n",
    "    .peso\n",
    "    .pipe(\n",
    "        lambda df: (\n",
    "            df.get_group(\"Female\"),\n",
    "            df.get_group(\"Male\")\n",
    "        )\n",
    "    )\n",
    ")\n",
    "\n",
    "female_weight,  male_weight\n",
    "\n",
    "#Prueba estadistica para determinar si existe una diferencia o no entre la presencia y ausencia de valores de peso\n",
    "\n",
    "scipy.stats.ttest_ind(\n",
    "    a = female_weight,\n",
    "    b = male_weight,\n",
    "    alternative = \"two-sided\"\n",
    ")"
   ]
  },
  {
   "cell_type": "markdown",
   "metadata": {},
   "source": [
    "Es el valor del estadístico t (mide la diferencia entre las medias, estandarizada). Es cercano a 0, lo que sugiere poca o ninguna diferencia entre grupos.\n",
    "\n",
    "* Si p < 0.05: se rechaza la hipótesis nula → hay evidencia de diferencia significativa.\n",
    "* Si p ≥ 0.05: no se rechaza la hipótesis nula → no hay evidencia de diferencia significativa.\n",
    "\n",
    "p = 0.7173 ⟶ muy superior a 0.05 → NO hay evidencia de que la proporción de valores faltantes en \"peso\" difiera significativamente entre hombres y mujeres.\n",
    "\n",
    "No existe una diferencia estadísticamente significativa entre los géneros (\"Male\" y \"Female\") en cuanto a la presencia de valores faltantes en la columna peso.\n",
    "\n"
   ]
  },
  {
   "cell_type": "markdown",
   "metadata": {
    "cell_id": "fc3e29e560ea44f9bca400f104e17cdb",
    "deepnote_app_coordinates": {
     "h": 5,
     "w": 12,
     "x": 0,
     "y": 683
    },
    "deepnote_cell_height": 110,
    "deepnote_cell_type": "markdown",
    "tags": []
   },
   "source": [
    "## Amplía tu conjunto de herramientas para explorar valores faltantes"
   ]
  },
  {
   "cell_type": "code",
   "execution_count": 35,
   "metadata": {
    "cell_id": "5a138d0cb64943d9aa626e41749e7a98",
    "deepnote_app_coordinates": {
     "h": 5,
     "w": 12,
     "x": 0,
     "y": 0
    },
    "deepnote_cell_type": "code",
    "deepnote_to_be_reexecuted": false,
    "execution_millis": 373,
    "execution_start": 1659727198020,
    "output_cleared": true,
    "source_hash": "cf367e97",
    "tags": []
   },
   "outputs": [
    {
     "name": "stderr",
     "output_type": "stream",
     "text": [
      "c:\\Users\\Admin\\Documents\\manejo_datos\\Data-Handling-Course\\venv\\Lib\\site-packages\\pandas_flavor\\register.py:164: FutureWarning: This function will be deprecated in a 1.x release. Please use `jn.select` instead.\n",
      "  return method(self._obj, *args, **kwargs)\n"
     ]
    },
    {
     "data": {
      "image/png": "[encoded data removed]",
      "text/plain": [
       "<Figure size 1000x1000 with 3 Axes>"
      ]
     },
     "metadata": {},
     "output_type": "display_data"
    }
   ],
   "source": [
    "fig, ax = plt.subplots(figsize = (10, 10))\n",
    "\n",
    "(\n",
    "    nhanes_df\n",
    "    .select_columns(\"peso\", \"general_health_condition\", \"gender\")\n",
    "    .assign(\n",
    "        peso = lambda df: df.peso.isna().replace([True, False], [\"NA\", \"!NA\"])\n",
    "    )\n",
    "    # Cuántas apariciones existen por cada combinacion de las 3 columas \n",
    "    .groupby(\n",
    "        [\"gender\", \"general_health_condition\", \"peso\"],\n",
    "        dropna = False,\n",
    "        as_index = True\n",
    "    )\n",
    "    .size()\n",
    "    .pipe(\n",
    "        lambda df: mosaic(\n",
    "            data = df,\n",
    "            properties = lambda key: {\"color\": \"r\" if \"NA\" in key else \"gray\"},\n",
    "            horizontal = True,\n",
    "            axes_label = True,\n",
    "            title = \"\",\n",
    "            labelizer = lambda key: \"\",\n",
    "            ax = ax\n",
    "\n",
    "        )\n",
    "    )\n",
    ");"
   ]
  },
  {
   "cell_type": "code",
   "execution_count": null,
   "metadata": {
    "cell_id": "e5de15ec796847e08b6614d37768d882",
    "deepnote_app_coordinates": {
     "h": 5,
     "w": 12,
     "x": 0,
     "y": 0
    },
    "deepnote_cell_type": "code",
    "deepnote_to_be_reexecuted": false,
    "execution_millis": 11,
    "execution_start": 1659727198395,
    "output_cleared": true,
    "source_hash": "cec5fd3",
    "tags": []
   },
   "outputs": [],
   "source": []
  },
  {
   "cell_type": "markdown",
   "metadata": {
    "cell_id": "4d6d2f679abb4376ad2d8673dcff21ac",
    "deepnote_app_coordinates": {
     "h": 5,
     "w": 12,
     "x": 0,
     "y": 694
    },
    "deepnote_cell_height": 110,
    "deepnote_cell_type": "markdown",
    "tags": []
   },
   "source": [
    "## Tratamiento de variables categóricas para imputación de valores faltantes"
   ]
  },
  {
   "cell_type": "code",
   "execution_count": 36,
   "metadata": {
    "cell_id": "dda9e645571942f8a505e7ee29af71f5",
    "deepnote_app_coordinates": {
     "h": 5,
     "w": 12,
     "x": 0,
     "y": 0
    },
    "deepnote_cell_type": "code",
    "deepnote_to_be_reexecuted": false,
    "execution_millis": 6,
    "execution_start": 1659727198410,
    "output_cleared": true,
    "source_hash": "4e83a69b",
    "tags": []
   },
   "outputs": [],
   "source": [
    "#1. Siempre debemos de crear una copia del DataFrame\n",
    "nhanes_copy_df = nhanes_df.copy(deep = True)"
   ]
  },
  {
   "cell_type": "markdown",
   "metadata": {
    "cell_id": "aec8af1a98ca4112b75a25cf2c5e2dc9",
    "deepnote_app_coordinates": {
     "h": 5,
     "w": 12,
     "x": 0,
     "y": 0
    },
    "deepnote_cell_height": 62,
    "deepnote_cell_type": "markdown",
    "tags": []
   },
   "source": [
    "### Codificación ordinal"
   ]
  },
  {
   "cell_type": "markdown",
   "metadata": {
    "cell_id": "3bc09369f5d541dfbdede3deba7f7f32",
    "deepnote_app_coordinates": {
     "h": 5,
     "w": 12,
     "x": 0,
     "y": 0
    },
    "deepnote_cell_height": 258.359375,
    "deepnote_cell_type": "markdown",
    "tags": []
   },
   "source": [
    "<div class=\"alert alert-info\">\n",
    "    <b style=\"font-size: 1.5em;\">📘 Información</b>\n",
    "    <p>\n",
    "    Una codificación ordinal <b>implica</b> mapear cada etiqueta (categoría) única a un valor entero. A su vez, la codificación ordinal también es conocida como codificación entera.\n",
    "    </p>\n",
    "</div>"
   ]
  },
  {
   "cell_type": "markdown",
   "metadata": {
    "cell_id": "77de745a20a8404ea4536e106efa4549",
    "deepnote_app_coordinates": {
     "h": 5,
     "w": 12,
     "x": 0,
     "y": 0
    },
    "deepnote_cell_height": 110.78125,
    "deepnote_cell_type": "markdown",
    "tags": []
   },
   "source": [
    "#### Ejemplo\n",
    "\n",
    "Dado un conjunto de datos con dos características, encontraremos los valores únicos por cataracterística y los transformaremos utilizando una codificación ordinal."
   ]
  },
  {
   "cell_type": "code",
   "execution_count": 39,
   "metadata": {
    "cell_id": "b35ea31525fb4c558bbb905b7994e5bc",
    "deepnote_app_coordinates": {
     "h": 5,
     "w": 12,
     "x": 0,
     "y": 0
    },
    "deepnote_cell_type": "code",
    "deepnote_to_be_reexecuted": false,
    "execution_millis": 3,
    "execution_start": 1659727198443,
    "output_cleared": true,
    "source_hash": "f3b27465",
    "tags": []
   },
   "outputs": [
    {
     "data": {
      "text/plain": [
       "[['Male'], ['Female'], ['Female']]"
      ]
     },
     "execution_count": 39,
     "metadata": {},
     "output_type": "execute_result"
    }
   ],
   "source": [
    "#Encoder que agrupa la informacion y la coficia\n",
    "encoder = sklearn.preprocessing.OrdinalEncoder()\n",
    "\n",
    "# Definir nuestra variable\n",
    "X = [[\"Male\"], [\"Female\"],[\"Female\"]]\n",
    "X"
   ]
  },
  {
   "cell_type": "code",
   "execution_count": null,
   "metadata": {
    "cell_id": "1027fcf3b81b4ac2b9a1a91f41167ccd",
    "deepnote_app_coordinates": {
     "h": 5,
     "w": 12,
     "x": 0,
     "y": 0
    },
    "deepnote_cell_type": "code",
    "deepnote_to_be_reexecuted": false,
    "execution_millis": 786637,
    "execution_start": 1659727198459,
    "output_cleared": true,
    "source_hash": "50c963d",
    "tags": []
   },
   "outputs": [
    {
     "data": {
      "text/plain": [
       "array([[1.],\n",
       "       [0.],\n",
       "       [0.]])"
      ]
     },
     "execution_count": 40,
     "metadata": {},
     "output_type": "execute_result"
    }
   ],
   "source": [
    "encoder.fit_transform(X)"
   ]
  },
  {
   "cell_type": "code",
   "execution_count": 41,
   "metadata": {
    "cell_id": "4ff1ed811b3348739c0f4266519da541",
    "deepnote_app_coordinates": {
     "h": 5,
     "w": 12,
     "x": 0,
     "y": 0
    },
    "deepnote_cell_type": "code",
    "deepnote_to_be_reexecuted": false,
    "execution_millis": 786585,
    "execution_start": 1659727198470,
    "output_cleared": true,
    "source_hash": "2250c89b",
    "tags": []
   },
   "outputs": [
    {
     "data": {
      "text/plain": [
       "[array(['Female', 'Male'], dtype=object)]"
      ]
     },
     "execution_count": 41,
     "metadata": {},
     "output_type": "execute_result"
    }
   ],
   "source": [
    "encoder.categories_"
   ]
  },
  {
   "cell_type": "code",
   "execution_count": 42,
   "metadata": {
    "cell_id": "ba41091758d44a5d82f11e64cbe12156",
    "deepnote_app_coordinates": {
     "h": 5,
     "w": 12,
     "x": 0,
     "y": 0
    },
    "deepnote_cell_type": "code",
    "deepnote_to_be_reexecuted": false,
    "execution_millis": 786595,
    "execution_start": 1659727198499,
    "output_cleared": true,
    "source_hash": "c7aed6f6",
    "tags": []
   },
   "outputs": [
    {
     "data": {
      "text/plain": [
       "array([['Male'],\n",
       "       ['Female'],\n",
       "       ['Female']], dtype=object)"
      ]
     },
     "execution_count": 42,
     "metadata": {},
     "output_type": "execute_result"
    }
   ],
   "source": [
    "encoder.inverse_transform([[1], [0], [0]])"
   ]
  },
  {
   "cell_type": "markdown",
   "metadata": {
    "cell_id": "b4e4a9361f21439f9910bcdcc7d0348e",
    "deepnote_app_coordinates": {
     "h": 5,
     "w": 12,
     "x": 0,
     "y": 0
    },
    "deepnote_cell_height": 54,
    "deepnote_cell_type": "markdown",
    "tags": []
   },
   "source": [
    "#### Aplicando la codificación ordinal a todas tus variables categóricas"
   ]
  },
  {
   "cell_type": "code",
   "execution_count": 50,
   "metadata": {
    "cell_id": "01e2752de62440a49079b934289b6660",
    "deepnote_app_coordinates": {
     "h": 5,
     "w": 12,
     "x": 0,
     "y": 0
    },
    "deepnote_cell_type": "code",
    "deepnote_to_be_reexecuted": false,
    "execution_millis": 11,
    "execution_start": 1659727198500,
    "output_cleared": true,
    "source_hash": "d914aef9",
    "tags": []
   },
   "outputs": [],
   "source": [
    "#1. Encontrar nuestras variables categoricas\n",
    "categorical_columns = nhanes_df.select_dtypes(include =[ object, \"category\"])"
   ]
  },
  {
   "cell_type": "code",
   "execution_count": 53,
   "metadata": {
    "cell_id": "c2364c57d0384acbbf6200a70c0887be",
    "deepnote_app_coordinates": {
     "h": 5,
     "w": 12,
     "x": 0,
     "y": 0
    },
    "deepnote_cell_type": "code",
    "deepnote_to_be_reexecuted": false,
    "execution_millis": 607,
    "execution_start": 1659727198500,
    "output_cleared": true,
    "source_hash": "b834d0c0",
    "tags": []
   },
   "outputs": [],
   "source": [
    "# 2. componer instrucciones de transformación de los datos\n",
    "categorical_transform = sklearn.compose.make_column_transformer(\n",
    "    (sklearn.preprocessing.OrdinalEncoder(), categorical_columns),\n",
    "    remainder = \"passthrough\" # ¿qué quiero hacer con las otras variables? Ignorarlas\n",
    ")"
   ]
  },
  {
   "cell_type": "code",
   "execution_count": 54,
   "metadata": {
    "cell_id": "10b7c935424b440690b615b59c4a242d",
    "deepnote_app_coordinates": {
     "h": 5,
     "w": 12,
     "x": 0,
     "y": 0
    },
    "deepnote_cell_type": "code",
    "deepnote_to_be_reexecuted": false,
    "execution_millis": 803,
    "execution_start": 1659727198501,
    "output_cleared": true,
    "source_hash": "d83e42d9",
    "tags": []
   },
   "outputs": [
    {
     "ename": "ValueError",
     "evalue": "No valid specification of the columns. Only a scalar, list or slice of all integers or all strings, or boolean mask is allowed",
     "output_type": "error",
     "traceback": [
      "\u001b[31m---------------------------------------------------------------------------\u001b[39m",
      "\u001b[31mValueError\u001b[39m                                Traceback (most recent call last)",
      "\u001b[36mCell\u001b[39m\u001b[36m \u001b[39m\u001b[32mIn[54]\u001b[39m\u001b[32m, line 3\u001b[39m\n\u001b[32m      1\u001b[39m (\n\u001b[32m      2\u001b[39m     pd.DataFrame(\n\u001b[32m----> \u001b[39m\u001b[32m3\u001b[39m         \u001b[43mcategorical_transform\u001b[49m\u001b[43m.\u001b[49m\u001b[43mfit_transform\u001b[49m\u001b[43m(\u001b[49m\u001b[43mnhanes_df\u001b[49m\u001b[43m)\u001b[49m,\n\u001b[32m      4\u001b[39m         columns  = categorical_transform.get_feature_names_out()\n\u001b[32m      5\u001b[39m     )\n\u001b[32m      6\u001b[39m )\n",
      "\u001b[36mFile \u001b[39m\u001b[32mc:\\Users\\Admin\\Documents\\manejo_datos\\Data-Handling-Course\\venv\\Lib\\site-packages\\sklearn\\utils\\_set_output.py:316\u001b[39m, in \u001b[36m_wrap_method_output.<locals>.wrapped\u001b[39m\u001b[34m(self, X, *args, **kwargs)\u001b[39m\n\u001b[32m    314\u001b[39m \u001b[38;5;129m@wraps\u001b[39m(f)\n\u001b[32m    315\u001b[39m \u001b[38;5;28;01mdef\u001b[39;00m\u001b[38;5;250m \u001b[39m\u001b[34mwrapped\u001b[39m(\u001b[38;5;28mself\u001b[39m, X, *args, **kwargs):\n\u001b[32m--> \u001b[39m\u001b[32m316\u001b[39m     data_to_wrap = \u001b[43mf\u001b[49m\u001b[43m(\u001b[49m\u001b[38;5;28;43mself\u001b[39;49m\u001b[43m,\u001b[49m\u001b[43m \u001b[49m\u001b[43mX\u001b[49m\u001b[43m,\u001b[49m\u001b[43m \u001b[49m\u001b[43m*\u001b[49m\u001b[43margs\u001b[49m\u001b[43m,\u001b[49m\u001b[43m \u001b[49m\u001b[43m*\u001b[49m\u001b[43m*\u001b[49m\u001b[43mkwargs\u001b[49m\u001b[43m)\u001b[49m\n\u001b[32m    317\u001b[39m     \u001b[38;5;28;01mif\u001b[39;00m \u001b[38;5;28misinstance\u001b[39m(data_to_wrap, \u001b[38;5;28mtuple\u001b[39m):\n\u001b[32m    318\u001b[39m         \u001b[38;5;66;03m# only wrap the first output for cross decomposition\u001b[39;00m\n\u001b[32m    319\u001b[39m         return_tuple = (\n\u001b[32m    320\u001b[39m             _wrap_data_with_container(method, data_to_wrap[\u001b[32m0\u001b[39m], X, \u001b[38;5;28mself\u001b[39m),\n\u001b[32m    321\u001b[39m             *data_to_wrap[\u001b[32m1\u001b[39m:],\n\u001b[32m    322\u001b[39m         )\n",
      "\u001b[36mFile \u001b[39m\u001b[32mc:\\Users\\Admin\\Documents\\manejo_datos\\Data-Handling-Course\\venv\\Lib\\site-packages\\sklearn\\base.py:1365\u001b[39m, in \u001b[36m_fit_context.<locals>.decorator.<locals>.wrapper\u001b[39m\u001b[34m(estimator, *args, **kwargs)\u001b[39m\n\u001b[32m   1358\u001b[39m     estimator._validate_params()\n\u001b[32m   1360\u001b[39m \u001b[38;5;28;01mwith\u001b[39;00m config_context(\n\u001b[32m   1361\u001b[39m     skip_parameter_validation=(\n\u001b[32m   1362\u001b[39m         prefer_skip_nested_validation \u001b[38;5;129;01mor\u001b[39;00m global_skip_validation\n\u001b[32m   1363\u001b[39m     )\n\u001b[32m   1364\u001b[39m ):\n\u001b[32m-> \u001b[39m\u001b[32m1365\u001b[39m     \u001b[38;5;28;01mreturn\u001b[39;00m \u001b[43mfit_method\u001b[49m\u001b[43m(\u001b[49m\u001b[43mestimator\u001b[49m\u001b[43m,\u001b[49m\u001b[43m \u001b[49m\u001b[43m*\u001b[49m\u001b[43margs\u001b[49m\u001b[43m,\u001b[49m\u001b[43m \u001b[49m\u001b[43m*\u001b[49m\u001b[43m*\u001b[49m\u001b[43mkwargs\u001b[49m\u001b[43m)\u001b[49m\n",
      "\u001b[36mFile \u001b[39m\u001b[32mc:\\Users\\Admin\\Documents\\manejo_datos\\Data-Handling-Course\\venv\\Lib\\site-packages\\sklearn\\compose\\_column_transformer.py:988\u001b[39m, in \u001b[36mColumnTransformer.fit_transform\u001b[39m\u001b[34m(self, X, y, **params)\u001b[39m\n\u001b[32m    985\u001b[39m \u001b[38;5;28mself\u001b[39m._validate_transformers()\n\u001b[32m    986\u001b[39m n_samples = _num_samples(X)\n\u001b[32m--> \u001b[39m\u001b[32m988\u001b[39m \u001b[38;5;28;43mself\u001b[39;49m\u001b[43m.\u001b[49m\u001b[43m_validate_column_callables\u001b[49m\u001b[43m(\u001b[49m\u001b[43mX\u001b[49m\u001b[43m)\u001b[49m\n\u001b[32m    989\u001b[39m \u001b[38;5;28mself\u001b[39m._validate_remainder(X)\n\u001b[32m    991\u001b[39m \u001b[38;5;28;01mif\u001b[39;00m _routing_enabled():\n",
      "\u001b[36mFile \u001b[39m\u001b[32mc:\\Users\\Admin\\Documents\\manejo_datos\\Data-Handling-Course\\venv\\Lib\\site-packages\\sklearn\\compose\\_column_transformer.py:541\u001b[39m, in \u001b[36mColumnTransformer._validate_column_callables\u001b[39m\u001b[34m(self, X)\u001b[39m\n\u001b[32m    539\u001b[39m         columns = columns(X)\n\u001b[32m    540\u001b[39m     all_columns.append(columns)\n\u001b[32m--> \u001b[39m\u001b[32m541\u001b[39m     transformer_to_input_indices[name] = \u001b[43m_get_column_indices\u001b[49m\u001b[43m(\u001b[49m\u001b[43mX\u001b[49m\u001b[43m,\u001b[49m\u001b[43m \u001b[49m\u001b[43mcolumns\u001b[49m\u001b[43m)\u001b[49m\n\u001b[32m    543\u001b[39m \u001b[38;5;28mself\u001b[39m._columns = all_columns\n\u001b[32m    544\u001b[39m \u001b[38;5;28mself\u001b[39m._transformer_to_input_indices = transformer_to_input_indices\n",
      "\u001b[36mFile \u001b[39m\u001b[32mc:\\Users\\Admin\\Documents\\manejo_datos\\Data-Handling-Course\\venv\\Lib\\site-packages\\sklearn\\utils\\_indexing.py:408\u001b[39m, in \u001b[36m_get_column_indices\u001b[39m\u001b[34m(X, key)\u001b[39m\n\u001b[32m    402\u001b[39m \u001b[38;5;28;01mdef\u001b[39;00m\u001b[38;5;250m \u001b[39m\u001b[34m_get_column_indices\u001b[39m(X, key):\n\u001b[32m    403\u001b[39m \u001b[38;5;250m    \u001b[39m\u001b[33;03m\"\"\"Get feature column indices for input data X and key.\u001b[39;00m\n\u001b[32m    404\u001b[39m \n\u001b[32m    405\u001b[39m \u001b[33;03m    For accepted values of `key`, see the docstring of\u001b[39;00m\n\u001b[32m    406\u001b[39m \u001b[33;03m    :func:`_safe_indexing`.\u001b[39;00m\n\u001b[32m    407\u001b[39m \u001b[33;03m    \"\"\"\u001b[39;00m\n\u001b[32m--> \u001b[39m\u001b[32m408\u001b[39m     key_dtype = \u001b[43m_determine_key_type\u001b[49m\u001b[43m(\u001b[49m\u001b[43mkey\u001b[49m\u001b[43m)\u001b[49m\n\u001b[32m    409\u001b[39m     \u001b[38;5;28;01mif\u001b[39;00m _use_interchange_protocol(X):\n\u001b[32m    410\u001b[39m         \u001b[38;5;28;01mreturn\u001b[39;00m _get_column_indices_interchange(X.__dataframe__(), key, key_dtype)\n",
      "\u001b[36mFile \u001b[39m\u001b[32mc:\\Users\\Admin\\Documents\\manejo_datos\\Data-Handling-Course\\venv\\Lib\\site-packages\\sklearn\\utils\\_indexing.py:239\u001b[39m, in \u001b[36m_determine_key_type\u001b[39m\u001b[34m(key, accept_slice)\u001b[39m\n\u001b[32m    237\u001b[39m         \u001b[38;5;28;01mexcept\u001b[39;00m \u001b[38;5;167;01mKeyError\u001b[39;00m:\n\u001b[32m    238\u001b[39m             \u001b[38;5;28;01mraise\u001b[39;00m \u001b[38;5;167;01mValueError\u001b[39;00m(err_msg)\n\u001b[32m--> \u001b[39m\u001b[32m239\u001b[39m \u001b[38;5;28;01mraise\u001b[39;00m \u001b[38;5;167;01mValueError\u001b[39;00m(err_msg)\n",
      "\u001b[31mValueError\u001b[39m: No valid specification of the columns. Only a scalar, list or slice of all integers or all strings, or boolean mask is allowed"
     ]
    }
   ],
   "source": [
    "(\n",
    "    pd.DataFrame(\n",
    "        categorical_transform.fit_transform(nhanes_df),\n",
    "        columns  = categorical_transform.get_feature_names_out()\n",
    "    )\n",
    ")"
   ]
  },
  {
   "cell_type": "code",
   "execution_count": 55,
   "metadata": {
    "cell_id": "cf234363c3b44b0aba8b73957fac48df",
    "deepnote_app_coordinates": {
     "h": 5,
     "w": 12,
     "x": 0,
     "y": 0
    },
    "deepnote_cell_type": "code",
    "deepnote_to_be_reexecuted": false,
    "execution_millis": 750,
    "execution_start": 1659727198561,
    "is_code_hidden": false,
    "output_cleared": true,
    "source_hash": "b6fe3f94",
    "tags": []
   },
   "outputs": [
    {
     "data": {
      "text/html": [
       "<div>\n",
       "<style scoped>\n",
       "    .dataframe tbody tr th:only-of-type {\n",
       "        vertical-align: middle;\n",
       "    }\n",
       "\n",
       "    .dataframe tbody tr th {\n",
       "        vertical-align: top;\n",
       "    }\n",
       "\n",
       "    .dataframe thead th {\n",
       "        text-align: right;\n",
       "    }\n",
       "</style>\n",
       "<table border=\"1\" class=\"dataframe\">\n",
       "  <thead>\n",
       "    <tr style=\"text-align: right;\">\n",
       "      <th></th>\n",
       "      <th>remainder__height</th>\n",
       "      <th>remainder__peso</th>\n",
       "      <th>remainder__general_health_condition</th>\n",
       "      <th>remainder__total_cholesterol</th>\n",
       "      <th>remainder__pulso</th>\n",
       "      <th>remainder__diabetes</th>\n",
       "      <th>remainder__gender</th>\n",
       "      <th>remainder__age</th>\n",
       "    </tr>\n",
       "  </thead>\n",
       "  <tbody>\n",
       "    <tr>\n",
       "      <th>0</th>\n",
       "      <td>63.0</td>\n",
       "      <td>165.0</td>\n",
       "      <td>Good</td>\n",
       "      <td>157.0</td>\n",
       "      <td>52.0</td>\n",
       "      <td>0</td>\n",
       "      <td>Female</td>\n",
       "      <td>66.0</td>\n",
       "    </tr>\n",
       "    <tr>\n",
       "      <th>1</th>\n",
       "      <td>68.0</td>\n",
       "      <td>145.0</td>\n",
       "      <td>Very good</td>\n",
       "      <td>148.0</td>\n",
       "      <td>82.0</td>\n",
       "      <td>0</td>\n",
       "      <td>Male</td>\n",
       "      <td>18.0</td>\n",
       "    </tr>\n",
       "    <tr>\n",
       "      <th>2</th>\n",
       "      <td>NaN</td>\n",
       "      <td>NaN</td>\n",
       "      <td>Good</td>\n",
       "      <td>189.0</td>\n",
       "      <td>100.0</td>\n",
       "      <td>0</td>\n",
       "      <td>Male</td>\n",
       "      <td>13.0</td>\n",
       "    </tr>\n",
       "    <tr>\n",
       "      <th>3</th>\n",
       "      <td>62.0</td>\n",
       "      <td>200.0</td>\n",
       "      <td>NaN</td>\n",
       "      <td>176.0</td>\n",
       "      <td>74.0</td>\n",
       "      <td>0</td>\n",
       "      <td>Female</td>\n",
       "      <td>75.0</td>\n",
       "    </tr>\n",
       "    <tr>\n",
       "      <th>4</th>\n",
       "      <td>69.0</td>\n",
       "      <td>142.0</td>\n",
       "      <td>Very good</td>\n",
       "      <td>238.0</td>\n",
       "      <td>62.0</td>\n",
       "      <td>0</td>\n",
       "      <td>Male</td>\n",
       "      <td>56.0</td>\n",
       "    </tr>\n",
       "  </tbody>\n",
       "</table>\n",
       "</div>"
      ],
      "text/plain": [
       "  remainder__height remainder__peso remainder__general_health_condition  \\\n",
       "0              63.0           165.0                                Good   \n",
       "1              68.0           145.0                           Very good   \n",
       "2               NaN             NaN                                Good   \n",
       "3              62.0           200.0                                 NaN   \n",
       "4              69.0           142.0                           Very good   \n",
       "\n",
       "  remainder__total_cholesterol remainder__pulso remainder__diabetes  \\\n",
       "0                        157.0             52.0                   0   \n",
       "1                        148.0             82.0                   0   \n",
       "2                        189.0            100.0                   0   \n",
       "3                        176.0             74.0                   0   \n",
       "4                        238.0             62.0                   0   \n",
       "\n",
       "  remainder__gender remainder__age  \n",
       "0            Female           66.0  \n",
       "1              Male           18.0  \n",
       "2              Male           13.0  \n",
       "3            Female           75.0  \n",
       "4              Male           56.0  "
      ]
     },
     "execution_count": 55,
     "metadata": {},
     "output_type": "execute_result"
    }
   ],
   "source": [
    "from sklearn.compose import make_column_transformer\n",
    "from sklearn.preprocessing import OrdinalEncoder\n",
    "\n",
    "# ✅ Paso previo: lista de columnas categóricas\n",
    "categorical_columns = nhanes_df.select_dtypes(include=\"category\").columns.tolist()\n",
    "\n",
    "# ✅ Transformador\n",
    "categorical_transform = make_column_transformer(\n",
    "    (OrdinalEncoder(), categorical_columns),\n",
    "    remainder=\"passthrough\"\n",
    ")\n",
    "\n",
    "# ✅ Transformar y convertir a DataFrame\n",
    "transformed_df = pd.DataFrame(\n",
    "    categorical_transform.fit_transform(nhanes_df),\n",
    "    columns=categorical_transform.get_feature_names_out()\n",
    ")\n",
    "\n",
    "transformed_df.head()\n"
   ]
  },
  {
   "cell_type": "code",
   "execution_count": 62,
   "metadata": {},
   "outputs": [
    {
     "name": "stderr",
     "output_type": "stream",
     "text": [
      "c:\\Users\\Admin\\Documents\\manejo_datos\\Data-Handling-Course\\venv\\Lib\\site-packages\\pandas_flavor\\register.py:164: FutureWarning: This function will be deprecated in a 1.x release. Please use `pd.DataFrame.rename` instead.\n",
      "  return method(self._obj, *args, **kwargs)\n"
     ]
    },
    {
     "data": {
      "text/html": [
       "<div>\n",
       "<style scoped>\n",
       "    .dataframe tbody tr th:only-of-type {\n",
       "        vertical-align: middle;\n",
       "    }\n",
       "\n",
       "    .dataframe tbody tr th {\n",
       "        vertical-align: top;\n",
       "    }\n",
       "\n",
       "    .dataframe thead th {\n",
       "        text-align: right;\n",
       "    }\n",
       "</style>\n",
       "<table border=\"1\" class=\"dataframe\">\n",
       "  <thead>\n",
       "    <tr style=\"text-align: right;\">\n",
       "      <th></th>\n",
       "      <th>remainder__height</th>\n",
       "      <th>remainder__peso</th>\n",
       "      <th>remainder__general_health_condition</th>\n",
       "      <th>remainder__total_cholesterol</th>\n",
       "      <th>remainder__pulso</th>\n",
       "      <th>remainder__diabetes</th>\n",
       "      <th>remainder__gender</th>\n",
       "      <th>remainder__age</th>\n",
       "    </tr>\n",
       "    <tr>\n",
       "      <th>SEQN</th>\n",
       "      <th></th>\n",
       "      <th></th>\n",
       "      <th></th>\n",
       "      <th></th>\n",
       "      <th></th>\n",
       "      <th></th>\n",
       "      <th></th>\n",
       "      <th></th>\n",
       "    </tr>\n",
       "  </thead>\n",
       "  <tbody>\n",
       "    <tr>\n",
       "      <th>93705.0</th>\n",
       "      <td>63.0</td>\n",
       "      <td>165.0</td>\n",
       "      <td>Good</td>\n",
       "      <td>157.0</td>\n",
       "      <td>52.0</td>\n",
       "      <td>0</td>\n",
       "      <td>Female</td>\n",
       "      <td>66.0</td>\n",
       "    </tr>\n",
       "    <tr>\n",
       "      <th>93706.0</th>\n",
       "      <td>68.0</td>\n",
       "      <td>145.0</td>\n",
       "      <td>Very good</td>\n",
       "      <td>148.0</td>\n",
       "      <td>82.0</td>\n",
       "      <td>0</td>\n",
       "      <td>Male</td>\n",
       "      <td>18.0</td>\n",
       "    </tr>\n",
       "    <tr>\n",
       "      <th>93707.0</th>\n",
       "      <td>NaN</td>\n",
       "      <td>NaN</td>\n",
       "      <td>Good</td>\n",
       "      <td>189.0</td>\n",
       "      <td>100.0</td>\n",
       "      <td>0</td>\n",
       "      <td>Male</td>\n",
       "      <td>13.0</td>\n",
       "    </tr>\n",
       "    <tr>\n",
       "      <th>93709.0</th>\n",
       "      <td>62.0</td>\n",
       "      <td>200.0</td>\n",
       "      <td>NaN</td>\n",
       "      <td>176.0</td>\n",
       "      <td>74.0</td>\n",
       "      <td>0</td>\n",
       "      <td>Female</td>\n",
       "      <td>75.0</td>\n",
       "    </tr>\n",
       "    <tr>\n",
       "      <th>93711.0</th>\n",
       "      <td>69.0</td>\n",
       "      <td>142.0</td>\n",
       "      <td>Very good</td>\n",
       "      <td>238.0</td>\n",
       "      <td>62.0</td>\n",
       "      <td>0</td>\n",
       "      <td>Male</td>\n",
       "      <td>56.0</td>\n",
       "    </tr>\n",
       "    <tr>\n",
       "      <th>...</th>\n",
       "      <td>...</td>\n",
       "      <td>...</td>\n",
       "      <td>...</td>\n",
       "      <td>...</td>\n",
       "      <td>...</td>\n",
       "      <td>...</td>\n",
       "      <td>...</td>\n",
       "      <td>...</td>\n",
       "    </tr>\n",
       "    <tr>\n",
       "      <th>102949.0</th>\n",
       "      <td>72.0</td>\n",
       "      <td>180.0</td>\n",
       "      <td>Excellent</td>\n",
       "      <td>201.0</td>\n",
       "      <td>96.0</td>\n",
       "      <td>0</td>\n",
       "      <td>Male</td>\n",
       "      <td>33.0</td>\n",
       "    </tr>\n",
       "    <tr>\n",
       "      <th>102953.0</th>\n",
       "      <td>65.0</td>\n",
       "      <td>218.0</td>\n",
       "      <td>Fair or</td>\n",
       "      <td>182.0</td>\n",
       "      <td>78.0</td>\n",
       "      <td>0</td>\n",
       "      <td>Male</td>\n",
       "      <td>42.0</td>\n",
       "    </tr>\n",
       "    <tr>\n",
       "      <th>102954.0</th>\n",
       "      <td>66.0</td>\n",
       "      <td>150.0</td>\n",
       "      <td>Good</td>\n",
       "      <td>172.0</td>\n",
       "      <td>78.0</td>\n",
       "      <td>0</td>\n",
       "      <td>Female</td>\n",
       "      <td>41.0</td>\n",
       "    </tr>\n",
       "    <tr>\n",
       "      <th>102955.0</th>\n",
       "      <td>NaN</td>\n",
       "      <td>NaN</td>\n",
       "      <td>Very good</td>\n",
       "      <td>150.0</td>\n",
       "      <td>74.0</td>\n",
       "      <td>0</td>\n",
       "      <td>Female</td>\n",
       "      <td>14.0</td>\n",
       "    </tr>\n",
       "    <tr>\n",
       "      <th>102956.0</th>\n",
       "      <td>69.0</td>\n",
       "      <td>250.0</td>\n",
       "      <td>Good</td>\n",
       "      <td>163.0</td>\n",
       "      <td>76.0</td>\n",
       "      <td>0</td>\n",
       "      <td>Male</td>\n",
       "      <td>38.0</td>\n",
       "    </tr>\n",
       "  </tbody>\n",
       "</table>\n",
       "<p>7157 rows × 8 columns</p>\n",
       "</div>"
      ],
      "text/plain": [
       "         remainder__height remainder__peso  \\\n",
       "SEQN                                         \n",
       "93705.0               63.0           165.0   \n",
       "93706.0               68.0           145.0   \n",
       "93707.0                NaN             NaN   \n",
       "93709.0               62.0           200.0   \n",
       "93711.0               69.0           142.0   \n",
       "...                    ...             ...   \n",
       "102949.0              72.0           180.0   \n",
       "102953.0              65.0           218.0   \n",
       "102954.0              66.0           150.0   \n",
       "102955.0               NaN             NaN   \n",
       "102956.0              69.0           250.0   \n",
       "\n",
       "         remainder__general_health_condition remainder__total_cholesterol  \\\n",
       "SEQN                                                                        \n",
       "93705.0                                 Good                        157.0   \n",
       "93706.0                            Very good                        148.0   \n",
       "93707.0                                 Good                        189.0   \n",
       "93709.0                                  NaN                        176.0   \n",
       "93711.0                            Very good                        238.0   \n",
       "...                                      ...                          ...   \n",
       "102949.0                           Excellent                        201.0   \n",
       "102953.0                             Fair or                        182.0   \n",
       "102954.0                                Good                        172.0   \n",
       "102955.0                           Very good                        150.0   \n",
       "102956.0                                Good                        163.0   \n",
       "\n",
       "         remainder__pulso remainder__diabetes remainder__gender remainder__age  \n",
       "SEQN                                                                            \n",
       "93705.0              52.0                   0            Female           66.0  \n",
       "93706.0              82.0                   0              Male           18.0  \n",
       "93707.0             100.0                   0              Male           13.0  \n",
       "93709.0              74.0                   0            Female           75.0  \n",
       "93711.0              62.0                   0              Male           56.0  \n",
       "...                   ...                 ...               ...            ...  \n",
       "102949.0             96.0                   0              Male           33.0  \n",
       "102953.0             78.0                   0              Male           42.0  \n",
       "102954.0             78.0                   0            Female           41.0  \n",
       "102955.0             74.0                   0            Female           14.0  \n",
       "102956.0             76.0                   0              Male           38.0  \n",
       "\n",
       "[7157 rows x 8 columns]"
      ]
     },
     "execution_count": 62,
     "metadata": {},
     "output_type": "execute_result"
    }
   ],
   "source": [
    "nhanes_transformed_df = (\n",
    "    pd.DataFrame(\n",
    "        categorical_transform.fit_transform(nhanes_df),\n",
    "        columns = categorical_transform.get_feature_names_out(),\n",
    "        index = nhanes_df.index\n",
    "    )\n",
    "    .rename_columns(\n",
    "        function = lambda x: x.removeprefix(\"ordinalencoder__\")\n",
    "    )\n",
    "    .rename_columns(\n",
    "        function = lambda x: x.removeprefix(\"remainderencoder__\")\n",
    "    )\n",
    ")\n",
    "\n",
    "nhanes_transformed_df"
   ]
  },
  {
   "cell_type": "markdown",
   "metadata": {
    "cell_id": "e008d3024fe34ef994d24e8612060429",
    "deepnote_app_coordinates": {
     "h": 5,
     "w": 12,
     "x": 0,
     "y": 0
    },
    "deepnote_cell_height": 62,
    "deepnote_cell_type": "markdown",
    "tags": []
   },
   "source": [
    "### _One Hot Encoding_"
   ]
  },
  {
   "cell_type": "code",
   "execution_count": 63,
   "metadata": {
    "cell_id": "7b74c3ed8d3440f3b832455c57b639b7",
    "deepnote_app_coordinates": {
     "h": 5,
     "w": 12,
     "x": 0,
     "y": 0
    },
    "deepnote_cell_type": "code",
    "deepnote_to_be_reexecuted": false,
    "execution_millis": 2,
    "execution_start": 1659727198577,
    "output_cleared": true,
    "source_hash": "6b9d742",
    "tags": []
   },
   "outputs": [],
   "source": [
    "# 1. Realizar copia\n",
    "nhanes_transformed_df2 = nhanes_df.copy(deep = True)"
   ]
  },
  {
   "cell_type": "markdown",
   "metadata": {
    "cell_id": "3c7e6d72ce5b44c9bd070bd6f1d53850",
    "deepnote_app_coordinates": {
     "h": 5,
     "w": 12,
     "x": 0,
     "y": 0
    },
    "deepnote_cell_height": 95.328125,
    "deepnote_cell_type": "markdown",
    "tags": []
   },
   "source": [
    "### `pandas.get_dummies()` vs `skelearn.preprocessing.OneHotEncoder()`"
   ]
  },
  {
   "cell_type": "markdown",
   "metadata": {
    "cell_id": "24eaed4a1abd42c8826758ff1d9acce3",
    "deepnote_app_coordinates": {
     "h": 5,
     "w": 12,
     "x": 0,
     "y": 0
    },
    "deepnote_cell_height": 54.65625,
    "deepnote_cell_type": "markdown",
    "tags": []
   },
   "source": [
    "#### `pandas.get_dummies()`"
   ]
  },
  {
   "cell_type": "code",
   "execution_count": 67,
   "metadata": {
    "cell_id": "646dce7cd50c4b3d8f02dca1917f48c8",
    "deepnote_app_coordinates": {
     "h": 4,
     "w": 12,
     "x": 0,
     "y": 704
    },
    "deepnote_cell_type": "code",
    "deepnote_to_be_reexecuted": false,
    "execution_millis": 700,
    "execution_start": 1659727198616,
    "output_cleared": true,
    "owner_user_id": "bc32f83c-a807-4a78-8769-dff22df5fe36",
    "source_hash": "5cbab55e",
    "tags": []
   },
   "outputs": [
    {
     "name": "stderr",
     "output_type": "stream",
     "text": [
      "c:\\Users\\Admin\\Documents\\manejo_datos\\Data-Handling-Course\\venv\\Lib\\site-packages\\pandas_flavor\\register.py:164: FutureWarning: This function will be deprecated in a 1.x release. Please use `jn.select` instead.\n",
      "  return method(self._obj, *args, **kwargs)\n"
     ]
    },
    {
     "data": {
      "text/html": [
       "<div>\n",
       "<style scoped>\n",
       "    .dataframe tbody tr th:only-of-type {\n",
       "        vertical-align: middle;\n",
       "    }\n",
       "\n",
       "    .dataframe tbody tr th {\n",
       "        vertical-align: top;\n",
       "    }\n",
       "\n",
       "    .dataframe thead th {\n",
       "        text-align: right;\n",
       "    }\n",
       "</style>\n",
       "<table border=\"1\" class=\"dataframe\">\n",
       "  <thead>\n",
       "    <tr style=\"text-align: right;\">\n",
       "      <th></th>\n",
       "      <th>general_health_condition_Excellent</th>\n",
       "      <th>general_health_condition_Fair or</th>\n",
       "      <th>general_health_condition_Good</th>\n",
       "      <th>general_health_condition_Poor?</th>\n",
       "      <th>general_health_condition_Very good</th>\n",
       "    </tr>\n",
       "    <tr>\n",
       "      <th>SEQN</th>\n",
       "      <th></th>\n",
       "      <th></th>\n",
       "      <th></th>\n",
       "      <th></th>\n",
       "      <th></th>\n",
       "    </tr>\n",
       "  </thead>\n",
       "  <tbody>\n",
       "    <tr>\n",
       "      <th>93705.0</th>\n",
       "      <td>False</td>\n",
       "      <td>False</td>\n",
       "      <td>True</td>\n",
       "      <td>False</td>\n",
       "      <td>False</td>\n",
       "    </tr>\n",
       "    <tr>\n",
       "      <th>93706.0</th>\n",
       "      <td>False</td>\n",
       "      <td>False</td>\n",
       "      <td>False</td>\n",
       "      <td>False</td>\n",
       "      <td>True</td>\n",
       "    </tr>\n",
       "    <tr>\n",
       "      <th>93707.0</th>\n",
       "      <td>False</td>\n",
       "      <td>False</td>\n",
       "      <td>True</td>\n",
       "      <td>False</td>\n",
       "      <td>False</td>\n",
       "    </tr>\n",
       "    <tr>\n",
       "      <th>93709.0</th>\n",
       "      <td>False</td>\n",
       "      <td>False</td>\n",
       "      <td>False</td>\n",
       "      <td>False</td>\n",
       "      <td>False</td>\n",
       "    </tr>\n",
       "    <tr>\n",
       "      <th>93711.0</th>\n",
       "      <td>False</td>\n",
       "      <td>False</td>\n",
       "      <td>False</td>\n",
       "      <td>False</td>\n",
       "      <td>True</td>\n",
       "    </tr>\n",
       "    <tr>\n",
       "      <th>...</th>\n",
       "      <td>...</td>\n",
       "      <td>...</td>\n",
       "      <td>...</td>\n",
       "      <td>...</td>\n",
       "      <td>...</td>\n",
       "    </tr>\n",
       "    <tr>\n",
       "      <th>102949.0</th>\n",
       "      <td>True</td>\n",
       "      <td>False</td>\n",
       "      <td>False</td>\n",
       "      <td>False</td>\n",
       "      <td>False</td>\n",
       "    </tr>\n",
       "    <tr>\n",
       "      <th>102953.0</th>\n",
       "      <td>False</td>\n",
       "      <td>True</td>\n",
       "      <td>False</td>\n",
       "      <td>False</td>\n",
       "      <td>False</td>\n",
       "    </tr>\n",
       "    <tr>\n",
       "      <th>102954.0</th>\n",
       "      <td>False</td>\n",
       "      <td>False</td>\n",
       "      <td>True</td>\n",
       "      <td>False</td>\n",
       "      <td>False</td>\n",
       "    </tr>\n",
       "    <tr>\n",
       "      <th>102955.0</th>\n",
       "      <td>False</td>\n",
       "      <td>False</td>\n",
       "      <td>False</td>\n",
       "      <td>False</td>\n",
       "      <td>True</td>\n",
       "    </tr>\n",
       "    <tr>\n",
       "      <th>102956.0</th>\n",
       "      <td>False</td>\n",
       "      <td>False</td>\n",
       "      <td>True</td>\n",
       "      <td>False</td>\n",
       "      <td>False</td>\n",
       "    </tr>\n",
       "  </tbody>\n",
       "</table>\n",
       "<p>7157 rows × 5 columns</p>\n",
       "</div>"
      ],
      "text/plain": [
       "          general_health_condition_Excellent  \\\n",
       "SEQN                                           \n",
       "93705.0                                False   \n",
       "93706.0                                False   \n",
       "93707.0                                False   \n",
       "93709.0                                False   \n",
       "93711.0                                False   \n",
       "...                                      ...   \n",
       "102949.0                                True   \n",
       "102953.0                               False   \n",
       "102954.0                               False   \n",
       "102955.0                               False   \n",
       "102956.0                               False   \n",
       "\n",
       "          general_health_condition_Fair or  general_health_condition_Good  \\\n",
       "SEQN                                                                        \n",
       "93705.0                              False                           True   \n",
       "93706.0                              False                          False   \n",
       "93707.0                              False                           True   \n",
       "93709.0                              False                          False   \n",
       "93711.0                              False                          False   \n",
       "...                                    ...                            ...   \n",
       "102949.0                             False                          False   \n",
       "102953.0                              True                          False   \n",
       "102954.0                             False                           True   \n",
       "102955.0                             False                          False   \n",
       "102956.0                             False                           True   \n",
       "\n",
       "          general_health_condition_Poor?  general_health_condition_Very good  \n",
       "SEQN                                                                          \n",
       "93705.0                            False                               False  \n",
       "93706.0                            False                                True  \n",
       "93707.0                            False                               False  \n",
       "93709.0                            False                               False  \n",
       "93711.0                            False                                True  \n",
       "...                                  ...                                 ...  \n",
       "102949.0                           False                               False  \n",
       "102953.0                           False                               False  \n",
       "102954.0                           False                               False  \n",
       "102955.0                           False                                True  \n",
       "102956.0                           False                               False  \n",
       "\n",
       "[7157 rows x 5 columns]"
      ]
     },
     "execution_count": 67,
     "metadata": {},
     "output_type": "execute_result"
    }
   ],
   "source": [
    "(\n",
    "    nhanes_transformed_df2\n",
    "    .select_columns(\"general_health_condition\")\n",
    "    #.head(10)\n",
    "    .pipe(pd.get_dummies)\n",
    ")\n",
    "\n",
    "#Este metodo aunque es util, se queda corto en cuanto a practicidad, pues al modelarlo como tal no siempre tendremos las mismas dimensiones"
   ]
  },
  {
   "cell_type": "markdown",
   "metadata": {
    "cell_id": "5e223458a564400492d638df9979a3d4",
    "deepnote_app_coordinates": {
     "h": 5,
     "w": 12,
     "x": 0,
     "y": 0
    },
    "deepnote_cell_height": 54.65625,
    "deepnote_cell_type": "markdown",
    "tags": []
   },
   "source": [
    "#### `skelearn.preprocessing.OneHotEncoder()`"
   ]
  },
  {
   "cell_type": "code",
   "execution_count": 68,
   "metadata": {
    "cell_id": "3c27f1c0acca4e46935039c17a3d7c5f",
    "deepnote_cell_type": "code",
    "deepnote_to_be_reexecuted": false,
    "execution_millis": 2,
    "execution_start": 1659727198624,
    "output_cleared": true,
    "source_hash": "2f71130c",
    "tags": []
   },
   "outputs": [],
   "source": [
    "transformer = sklearn.compose.make_column_transformer(\n",
    "    (sklearn.preprocessing.OrdinalEncoder(),[\"gender\"]),\n",
    "    (sklearn.preprocessing.OneHotEncoder(), [\"general_health_condition\"]),\n",
    "    remainder = \"passthrough\"\n",
    "\n",
    ")"
   ]
  },
  {
   "cell_type": "code",
   "execution_count": 70,
   "metadata": {
    "cell_id": "3468678144b444d19e8bccf3490f6b46",
    "deepnote_cell_type": "code",
    "deepnote_to_be_reexecuted": false,
    "execution_millis": 696,
    "execution_start": 1659727198632,
    "output_cleared": true,
    "source_hash": "d31afe8e",
    "tags": []
   },
   "outputs": [
    {
     "name": "stderr",
     "output_type": "stream",
     "text": [
      "c:\\Users\\Admin\\Documents\\manejo_datos\\Data-Handling-Course\\venv\\Lib\\site-packages\\pandas_flavor\\register.py:164: FutureWarning: This function will be deprecated in a 1.x release. Please use `pd.DataFrame.rename` instead.\n",
      "  return method(self._obj, *args, **kwargs)\n"
     ]
    },
    {
     "data": {
      "text/html": [
       "<div>\n",
       "<style scoped>\n",
       "    .dataframe tbody tr th:only-of-type {\n",
       "        vertical-align: middle;\n",
       "    }\n",
       "\n",
       "    .dataframe tbody tr th {\n",
       "        vertical-align: top;\n",
       "    }\n",
       "\n",
       "    .dataframe thead th {\n",
       "        text-align: right;\n",
       "    }\n",
       "</style>\n",
       "<table border=\"1\" class=\"dataframe\">\n",
       "  <thead>\n",
       "    <tr style=\"text-align: right;\">\n",
       "      <th></th>\n",
       "      <th>gender</th>\n",
       "      <th>general_health_condition_Excellent</th>\n",
       "      <th>general_health_condition_Fair or</th>\n",
       "      <th>general_health_condition_Good</th>\n",
       "      <th>general_health_condition_Poor?</th>\n",
       "      <th>general_health_condition_Very good</th>\n",
       "      <th>general_health_condition_nan</th>\n",
       "      <th>remainder__height</th>\n",
       "      <th>remainder__peso</th>\n",
       "      <th>remainder__total_cholesterol</th>\n",
       "      <th>remainder__pulso</th>\n",
       "      <th>remainder__diabetes</th>\n",
       "      <th>remainder__age</th>\n",
       "    </tr>\n",
       "    <tr>\n",
       "      <th>SEQN</th>\n",
       "      <th></th>\n",
       "      <th></th>\n",
       "      <th></th>\n",
       "      <th></th>\n",
       "      <th></th>\n",
       "      <th></th>\n",
       "      <th></th>\n",
       "      <th></th>\n",
       "      <th></th>\n",
       "      <th></th>\n",
       "      <th></th>\n",
       "      <th></th>\n",
       "      <th></th>\n",
       "    </tr>\n",
       "  </thead>\n",
       "  <tbody>\n",
       "    <tr>\n",
       "      <th>93705.0</th>\n",
       "      <td>0.0</td>\n",
       "      <td>0.0</td>\n",
       "      <td>0.0</td>\n",
       "      <td>1.0</td>\n",
       "      <td>0.0</td>\n",
       "      <td>0.0</td>\n",
       "      <td>0.0</td>\n",
       "      <td>63.0</td>\n",
       "      <td>165.0</td>\n",
       "      <td>157.0</td>\n",
       "      <td>52.0</td>\n",
       "      <td>0.0</td>\n",
       "      <td>66.0</td>\n",
       "    </tr>\n",
       "    <tr>\n",
       "      <th>93706.0</th>\n",
       "      <td>1.0</td>\n",
       "      <td>0.0</td>\n",
       "      <td>0.0</td>\n",
       "      <td>0.0</td>\n",
       "      <td>0.0</td>\n",
       "      <td>1.0</td>\n",
       "      <td>0.0</td>\n",
       "      <td>68.0</td>\n",
       "      <td>145.0</td>\n",
       "      <td>148.0</td>\n",
       "      <td>82.0</td>\n",
       "      <td>0.0</td>\n",
       "      <td>18.0</td>\n",
       "    </tr>\n",
       "    <tr>\n",
       "      <th>93707.0</th>\n",
       "      <td>1.0</td>\n",
       "      <td>0.0</td>\n",
       "      <td>0.0</td>\n",
       "      <td>1.0</td>\n",
       "      <td>0.0</td>\n",
       "      <td>0.0</td>\n",
       "      <td>0.0</td>\n",
       "      <td>NaN</td>\n",
       "      <td>NaN</td>\n",
       "      <td>189.0</td>\n",
       "      <td>100.0</td>\n",
       "      <td>0.0</td>\n",
       "      <td>13.0</td>\n",
       "    </tr>\n",
       "    <tr>\n",
       "      <th>93709.0</th>\n",
       "      <td>0.0</td>\n",
       "      <td>0.0</td>\n",
       "      <td>0.0</td>\n",
       "      <td>0.0</td>\n",
       "      <td>0.0</td>\n",
       "      <td>0.0</td>\n",
       "      <td>1.0</td>\n",
       "      <td>62.0</td>\n",
       "      <td>200.0</td>\n",
       "      <td>176.0</td>\n",
       "      <td>74.0</td>\n",
       "      <td>0.0</td>\n",
       "      <td>75.0</td>\n",
       "    </tr>\n",
       "    <tr>\n",
       "      <th>93711.0</th>\n",
       "      <td>1.0</td>\n",
       "      <td>0.0</td>\n",
       "      <td>0.0</td>\n",
       "      <td>0.0</td>\n",
       "      <td>0.0</td>\n",
       "      <td>1.0</td>\n",
       "      <td>0.0</td>\n",
       "      <td>69.0</td>\n",
       "      <td>142.0</td>\n",
       "      <td>238.0</td>\n",
       "      <td>62.0</td>\n",
       "      <td>0.0</td>\n",
       "      <td>56.0</td>\n",
       "    </tr>\n",
       "    <tr>\n",
       "      <th>...</th>\n",
       "      <td>...</td>\n",
       "      <td>...</td>\n",
       "      <td>...</td>\n",
       "      <td>...</td>\n",
       "      <td>...</td>\n",
       "      <td>...</td>\n",
       "      <td>...</td>\n",
       "      <td>...</td>\n",
       "      <td>...</td>\n",
       "      <td>...</td>\n",
       "      <td>...</td>\n",
       "      <td>...</td>\n",
       "      <td>...</td>\n",
       "    </tr>\n",
       "    <tr>\n",
       "      <th>102949.0</th>\n",
       "      <td>1.0</td>\n",
       "      <td>1.0</td>\n",
       "      <td>0.0</td>\n",
       "      <td>0.0</td>\n",
       "      <td>0.0</td>\n",
       "      <td>0.0</td>\n",
       "      <td>0.0</td>\n",
       "      <td>72.0</td>\n",
       "      <td>180.0</td>\n",
       "      <td>201.0</td>\n",
       "      <td>96.0</td>\n",
       "      <td>0.0</td>\n",
       "      <td>33.0</td>\n",
       "    </tr>\n",
       "    <tr>\n",
       "      <th>102953.0</th>\n",
       "      <td>1.0</td>\n",
       "      <td>0.0</td>\n",
       "      <td>1.0</td>\n",
       "      <td>0.0</td>\n",
       "      <td>0.0</td>\n",
       "      <td>0.0</td>\n",
       "      <td>0.0</td>\n",
       "      <td>65.0</td>\n",
       "      <td>218.0</td>\n",
       "      <td>182.0</td>\n",
       "      <td>78.0</td>\n",
       "      <td>0.0</td>\n",
       "      <td>42.0</td>\n",
       "    </tr>\n",
       "    <tr>\n",
       "      <th>102954.0</th>\n",
       "      <td>0.0</td>\n",
       "      <td>0.0</td>\n",
       "      <td>0.0</td>\n",
       "      <td>1.0</td>\n",
       "      <td>0.0</td>\n",
       "      <td>0.0</td>\n",
       "      <td>0.0</td>\n",
       "      <td>66.0</td>\n",
       "      <td>150.0</td>\n",
       "      <td>172.0</td>\n",
       "      <td>78.0</td>\n",
       "      <td>0.0</td>\n",
       "      <td>41.0</td>\n",
       "    </tr>\n",
       "    <tr>\n",
       "      <th>102955.0</th>\n",
       "      <td>0.0</td>\n",
       "      <td>0.0</td>\n",
       "      <td>0.0</td>\n",
       "      <td>0.0</td>\n",
       "      <td>0.0</td>\n",
       "      <td>1.0</td>\n",
       "      <td>0.0</td>\n",
       "      <td>NaN</td>\n",
       "      <td>NaN</td>\n",
       "      <td>150.0</td>\n",
       "      <td>74.0</td>\n",
       "      <td>0.0</td>\n",
       "      <td>14.0</td>\n",
       "    </tr>\n",
       "    <tr>\n",
       "      <th>102956.0</th>\n",
       "      <td>1.0</td>\n",
       "      <td>0.0</td>\n",
       "      <td>0.0</td>\n",
       "      <td>1.0</td>\n",
       "      <td>0.0</td>\n",
       "      <td>0.0</td>\n",
       "      <td>0.0</td>\n",
       "      <td>69.0</td>\n",
       "      <td>250.0</td>\n",
       "      <td>163.0</td>\n",
       "      <td>76.0</td>\n",
       "      <td>0.0</td>\n",
       "      <td>38.0</td>\n",
       "    </tr>\n",
       "  </tbody>\n",
       "</table>\n",
       "<p>7157 rows × 13 columns</p>\n",
       "</div>"
      ],
      "text/plain": [
       "          gender  general_health_condition_Excellent  \\\n",
       "SEQN                                                   \n",
       "93705.0      0.0                                 0.0   \n",
       "93706.0      1.0                                 0.0   \n",
       "93707.0      1.0                                 0.0   \n",
       "93709.0      0.0                                 0.0   \n",
       "93711.0      1.0                                 0.0   \n",
       "...          ...                                 ...   \n",
       "102949.0     1.0                                 1.0   \n",
       "102953.0     1.0                                 0.0   \n",
       "102954.0     0.0                                 0.0   \n",
       "102955.0     0.0                                 0.0   \n",
       "102956.0     1.0                                 0.0   \n",
       "\n",
       "          general_health_condition_Fair or  general_health_condition_Good  \\\n",
       "SEQN                                                                        \n",
       "93705.0                                0.0                            1.0   \n",
       "93706.0                                0.0                            0.0   \n",
       "93707.0                                0.0                            1.0   \n",
       "93709.0                                0.0                            0.0   \n",
       "93711.0                                0.0                            0.0   \n",
       "...                                    ...                            ...   \n",
       "102949.0                               0.0                            0.0   \n",
       "102953.0                               1.0                            0.0   \n",
       "102954.0                               0.0                            1.0   \n",
       "102955.0                               0.0                            0.0   \n",
       "102956.0                               0.0                            1.0   \n",
       "\n",
       "          general_health_condition_Poor?  general_health_condition_Very good  \\\n",
       "SEQN                                                                           \n",
       "93705.0                              0.0                                 0.0   \n",
       "93706.0                              0.0                                 1.0   \n",
       "93707.0                              0.0                                 0.0   \n",
       "93709.0                              0.0                                 0.0   \n",
       "93711.0                              0.0                                 1.0   \n",
       "...                                  ...                                 ...   \n",
       "102949.0                             0.0                                 0.0   \n",
       "102953.0                             0.0                                 0.0   \n",
       "102954.0                             0.0                                 0.0   \n",
       "102955.0                             0.0                                 1.0   \n",
       "102956.0                             0.0                                 0.0   \n",
       "\n",
       "          general_health_condition_nan  remainder__height  remainder__peso  \\\n",
       "SEQN                                                                         \n",
       "93705.0                            0.0               63.0            165.0   \n",
       "93706.0                            0.0               68.0            145.0   \n",
       "93707.0                            0.0                NaN              NaN   \n",
       "93709.0                            1.0               62.0            200.0   \n",
       "93711.0                            0.0               69.0            142.0   \n",
       "...                                ...                ...              ...   \n",
       "102949.0                           0.0               72.0            180.0   \n",
       "102953.0                           0.0               65.0            218.0   \n",
       "102954.0                           0.0               66.0            150.0   \n",
       "102955.0                           0.0                NaN              NaN   \n",
       "102956.0                           0.0               69.0            250.0   \n",
       "\n",
       "          remainder__total_cholesterol  remainder__pulso  remainder__diabetes  \\\n",
       "SEQN                                                                            \n",
       "93705.0                          157.0              52.0                  0.0   \n",
       "93706.0                          148.0              82.0                  0.0   \n",
       "93707.0                          189.0             100.0                  0.0   \n",
       "93709.0                          176.0              74.0                  0.0   \n",
       "93711.0                          238.0              62.0                  0.0   \n",
       "...                                ...               ...                  ...   \n",
       "102949.0                         201.0              96.0                  0.0   \n",
       "102953.0                         182.0              78.0                  0.0   \n",
       "102954.0                         172.0              78.0                  0.0   \n",
       "102955.0                         150.0              74.0                  0.0   \n",
       "102956.0                         163.0              76.0                  0.0   \n",
       "\n",
       "          remainder__age  \n",
       "SEQN                      \n",
       "93705.0             66.0  \n",
       "93706.0             18.0  \n",
       "93707.0             13.0  \n",
       "93709.0             75.0  \n",
       "93711.0             56.0  \n",
       "...                  ...  \n",
       "102949.0            33.0  \n",
       "102953.0            42.0  \n",
       "102954.0            41.0  \n",
       "102955.0            14.0  \n",
       "102956.0            38.0  \n",
       "\n",
       "[7157 rows x 13 columns]"
      ]
     },
     "execution_count": 70,
     "metadata": {},
     "output_type": "execute_result"
    }
   ],
   "source": [
    "nhanes_transformed_df2 = (\n",
    "    pd.DataFrame(\n",
    "        transformer.fit_transform(nhanes_df),\n",
    "        columns = transformer.get_feature_names_out(),\n",
    "        index = nhanes_df.index\n",
    "    )\n",
    "    .rename_columns(\n",
    "        function = lambda x: x.removeprefix(\"ordinalencoder__\")\n",
    "    )\n",
    "    .rename_columns(\n",
    "        function = lambda x: x.removeprefix(\"remainderencoder__\")\n",
    "    )\n",
    "    .rename_columns(\n",
    "        function = lambda x: x.removeprefix(\"onehotencoder__\")\n",
    "    )\n",
    ")\n",
    "\n",
    "nhanes_transformed_df2"
   ]
  },
  {
   "cell_type": "code",
   "execution_count": 72,
   "metadata": {
    "cell_id": "0a50b61b5e5c4d4ca3bba27c0460dab0",
    "deepnote_app_coordinates": {
     "h": 5,
     "w": 12,
     "x": 0,
     "y": 0
    },
    "deepnote_cell_type": "code",
    "deepnote_to_be_reexecuted": false,
    "execution_millis": 588,
    "execution_start": 1659727198744,
    "output_cleared": true,
    "source_hash": "2a780bd4",
    "tags": []
   },
   "outputs": [
    {
     "data": {
      "text/plain": [
       "[array(['Excellent', 'Fair or', 'Good', 'Poor?', 'Very good', nan],\n",
       "       dtype=object)]"
      ]
     },
     "execution_count": 72,
     "metadata": {},
     "output_type": "execute_result"
    }
   ],
   "source": [
    "# podemos acceder a estas categorias\n",
    "(\n",
    "    transformer\n",
    "    .named_transformers_\n",
    "    .get(\"onehotencoder\")\n",
    "    .categories_\n",
    ")"
   ]
  },
  {
   "cell_type": "code",
   "execution_count": 74,
   "metadata": {
    "cell_id": "43d5dfce63d4424aa341682798f5114f",
    "deepnote_app_coordinates": {
     "h": 5,
     "w": 12,
     "x": 0,
     "y": 0
    },
    "deepnote_cell_type": "code",
    "deepnote_to_be_reexecuted": false,
    "execution_millis": 585,
    "execution_start": 1659727198755,
    "output_cleared": true,
    "source_hash": "8d5603ce",
    "tags": []
   },
   "outputs": [
    {
     "data": {
      "text/plain": [
       "array([['Good']], dtype=object)"
      ]
     },
     "execution_count": 74,
     "metadata": {},
     "output_type": "execute_result"
    }
   ],
   "source": [
    "#Tambien podemos obtener su inversa:\n",
    "\n",
    "(\n",
    "    transformer\n",
    "    .named_transformers_\n",
    "    .get(\"onehotencoder\")\n",
    "    .inverse_transform(\n",
    "        X = [[0, 0, 1, 0, 0, 0]]\n",
    "    )\n",
    ")"
   ]
  },
  {
   "cell_type": "markdown",
   "metadata": {
    "cell_id": "2aa74125de8d4a33b534910bdbd67677",
    "deepnote_app_coordinates": {
     "h": 3,
     "w": 12,
     "x": 0,
     "y": 700
    },
    "deepnote_cell_height": 70,
    "deepnote_cell_type": "markdown",
    "tags": []
   },
   "source": [
    "## Tipos de imputación de valores faltantes"
   ]
  },
  {
   "cell_type": "markdown",
   "metadata": {
    "cell_id": "8790d537fd254b71b094c85959bdd78a",
    "deepnote_app_coordinates": {
     "h": 5,
     "w": 12,
     "x": 0,
     "y": 0
    },
    "deepnote_cell_height": 70,
    "deepnote_cell_type": "markdown",
    "tags": []
   },
   "source": [
    "![](imputation_methods.png)"
   ]
  },
  {
   "attachments": {
    "image.png": {
     "image/png": "[encoded data removed]"
    }
   },
   "cell_type": "markdown",
   "metadata": {
    "cell_id": "69bd9f36bb264978b1e3f4b6882d945b",
    "deepnote_app_coordinates": {
     "h": 5,
     "w": 12,
     "x": 0,
     "y": 714
    },
    "deepnote_cell_height": 110,
    "deepnote_cell_type": "markdown",
    "tags": []
   },
   "source": [
    "## Imputación de un único valor (media, mediana, moda)\n",
    "\n",
    "![image.png](attachment:image.png)"
   ]
  },
  {
   "cell_type": "code",
   "execution_count": 77,
   "metadata": {
    "cell_id": "bf7e0430baed42d0bb80512d7306c9c4",
    "deepnote_app_coordinates": {
     "h": 4,
     "w": 12,
     "x": 0,
     "y": 720
    },
    "deepnote_cell_type": "code",
    "deepnote_to_be_reexecuted": false,
    "execution_millis": 545,
    "execution_start": 1659727198802,
    "output_cleared": true,
    "source_hash": "76d3464c",
    "tags": []
   },
   "outputs": [
    {
     "data": {
      "text/plain": [
       "np.float64(66.25655976676386)"
      ]
     },
     "execution_count": 77,
     "metadata": {},
     "output_type": "execute_result"
    }
   ],
   "source": [
    "(\n",
    "    nhanes_df\n",
    "    #1. Transformar la columna con función de janitor\n",
    "    .transform_column(\n",
    "        \"height\",\n",
    "        lambda x: x.fillna(x.mean()),\n",
    "        elementwise = False\n",
    "    )\n",
    "    .height\n",
    "    .mean()\n",
    ")"
   ]
  },
  {
   "cell_type": "code",
   "execution_count": 85,
   "metadata": {},
   "outputs": [],
   "source": [
    "import seaborn as sns"
   ]
  },
  {
   "cell_type": "code",
   "execution_count": 87,
   "metadata": {
    "cell_id": "2e57e01b12e94ba3a3353db7122616a5",
    "deepnote_app_coordinates": {
     "h": 5,
     "w": 12,
     "x": 0,
     "y": 0
    },
    "deepnote_cell_type": "code",
    "deepnote_to_be_reexecuted": false,
    "execution_millis": 567,
    "execution_start": 1659727198803,
    "output_cleared": true,
    "source_hash": "51efadfd",
    "tags": []
   },
   "outputs": [
    {
     "name": "stderr",
     "output_type": "stream",
     "text": [
      "c:\\Users\\Admin\\Documents\\manejo_datos\\Data-Handling-Course\\venv\\Lib\\site-packages\\pandas_flavor\\register.py:164: FutureWarning: This function will be deprecated in a 1.x release. Please use `jn.select` instead.\n",
      "  return method(self._obj, *args, **kwargs)\n"
     ]
    },
    {
     "ename": "NameError",
     "evalue": "name 'sns' is not defined",
     "output_type": "error",
     "traceback": [
      "\u001b[31m---------------------------------------------------------------------------\u001b[39m",
      "\u001b[31mNameError\u001b[39m                                 Traceback (most recent call last)",
      "\u001b[36mCell\u001b[39m\u001b[36m \u001b[39m\u001b[32mIn[87]\u001b[39m\u001b[32m, line 9\u001b[39m\n\u001b[32m      1\u001b[39m (\n\u001b[32m      2\u001b[39m     \u001b[43mnhanes_df\u001b[49m\n\u001b[32m      3\u001b[39m \u001b[43m    \u001b[49m\u001b[43m.\u001b[49m\u001b[43mselect_columns\u001b[49m\u001b[43m(\u001b[49m\u001b[33;43m\"\u001b[39;49m\u001b[33;43mheight\u001b[39;49m\u001b[33;43m\"\u001b[39;49m\u001b[43m,\u001b[49m\u001b[43m \u001b[49m\u001b[33;43m\"\u001b[39;49m\u001b[33;43mpeso\u001b[39;49m\u001b[33;43m\"\u001b[39;49m\u001b[43m)\u001b[49m\n\u001b[32m      4\u001b[39m \u001b[43m    \u001b[49m\u001b[43m.\u001b[49m\u001b[43mmissing\u001b[49m\u001b[43m.\u001b[49m\u001b[43mbind_shadow_matrix\u001b[49m\u001b[43m(\u001b[49m\u001b[38;5;28;43;01mTrue\u001b[39;49;00m\u001b[43m,\u001b[49m\u001b[43m \u001b[49m\u001b[38;5;28;43;01mFalse\u001b[39;49;00m\u001b[43m,\u001b[49m\u001b[43m \u001b[49m\u001b[43msuffix\u001b[49m\u001b[43m \u001b[49m\u001b[43m=\u001b[49m\u001b[43m \u001b[49m\u001b[33;43m\"\u001b[39;49m\u001b[33;43m_imp\u001b[39;49m\u001b[33;43m\"\u001b[39;49m\u001b[43m)\u001b[49m\n\u001b[32m      5\u001b[39m \u001b[43m    \u001b[49m\u001b[43m.\u001b[49m\u001b[43massign\u001b[49m\u001b[43m(\u001b[49m\n\u001b[32m      6\u001b[39m \u001b[43m        \u001b[49m\u001b[43mheight\u001b[49m\u001b[43m \u001b[49m\u001b[43m=\u001b[49m\u001b[43m \u001b[49m\u001b[38;5;28;43;01mlambda\u001b[39;49;00m\u001b[43m \u001b[49m\u001b[43mdf\u001b[49m\u001b[43m:\u001b[49m\u001b[43m \u001b[49m\u001b[43mdf\u001b[49m\u001b[43m.\u001b[49m\u001b[43mheight\u001b[49m\u001b[43m.\u001b[49m\u001b[43mfillna\u001b[49m\u001b[43m(\u001b[49m\u001b[43mvalue\u001b[49m\u001b[43m \u001b[49m\u001b[43m=\u001b[49m\u001b[43m \u001b[49m\u001b[43mdf\u001b[49m\u001b[43m.\u001b[49m\u001b[43mheight\u001b[49m\u001b[43m.\u001b[49m\u001b[43mmean\u001b[49m\u001b[43m(\u001b[49m\u001b[43m)\u001b[49m\u001b[43m)\u001b[49m\u001b[43m,\u001b[49m\n\u001b[32m      7\u001b[39m \u001b[43m        \u001b[49m\u001b[43mpeso\u001b[49m\u001b[43m \u001b[49m\u001b[43m=\u001b[49m\u001b[43m \u001b[49m\u001b[38;5;28;43;01mlambda\u001b[39;49;00m\u001b[43m \u001b[49m\u001b[43mdf\u001b[49m\u001b[43m:\u001b[49m\u001b[43m \u001b[49m\u001b[43mdf\u001b[49m\u001b[43m.\u001b[49m\u001b[43mpeso\u001b[49m\u001b[43m.\u001b[49m\u001b[43mfillna\u001b[49m\u001b[43m(\u001b[49m\u001b[43mvalue\u001b[49m\u001b[43m \u001b[49m\u001b[43m=\u001b[49m\u001b[43m \u001b[49m\u001b[43mdf\u001b[49m\u001b[43m.\u001b[49m\u001b[43mpeso\u001b[49m\u001b[43m.\u001b[49m\u001b[43mmean\u001b[49m\u001b[43m(\u001b[49m\u001b[43m)\u001b[49m\u001b[43m)\u001b[49m\n\u001b[32m      8\u001b[39m \u001b[43m    \u001b[49m\u001b[43m)\u001b[49m\n\u001b[32m----> \u001b[39m\u001b[32m9\u001b[39m \u001b[43m    \u001b[49m\u001b[43m.\u001b[49m\u001b[43mmissing\u001b[49m\u001b[43m.\u001b[49m\u001b[43mscatter_imputation_plot\u001b[49m\u001b[43m(\u001b[49m\n\u001b[32m     10\u001b[39m \u001b[43m        \u001b[49m\u001b[43mx\u001b[49m\u001b[43m \u001b[49m\u001b[43m=\u001b[49m\u001b[43m \u001b[49m\u001b[33;43m\"\u001b[39;49m\u001b[33;43mheight\u001b[39;49m\u001b[33;43m\"\u001b[39;49m\u001b[43m,\u001b[49m\u001b[43m \u001b[49m\n\u001b[32m     11\u001b[39m \u001b[43m        \u001b[49m\u001b[43my\u001b[49m\u001b[43m \u001b[49m\u001b[43m=\u001b[49m\u001b[43m \u001b[49m\u001b[33;43m\"\u001b[39;49m\u001b[33;43mpeso\u001b[39;49m\u001b[33;43m\"\u001b[39;49m\n\u001b[32m     12\u001b[39m \u001b[43m    \u001b[49m\u001b[43m)\u001b[49m\n\u001b[32m     13\u001b[39m )\n",
      "\u001b[36mFile \u001b[39m\u001b[32m~\\Documents\\manejo_datos\\Data-Handling-Course\\Imputacion\\pandas-missing-extension.py:226\u001b[39m, in \u001b[36mscatter_imputation_plot\u001b[39m\u001b[34m(self, x, y, imputation_suffix, show_marginal, **kwargs)\u001b[39m\n",
      "\u001b[31mNameError\u001b[39m: name 'sns' is not defined"
     ]
    }
   ],
   "source": [
    "(\n",
    "    nhanes_df\n",
    "    .select_columns(\"height\", \"peso\")\n",
    "    .missing.bind_shadow_matrix(True, False, suffix = \"_imp\")\n",
    "    .assign(\n",
    "        height = lambda df: df.height.fillna(value = df.height.mean()),\n",
    "        peso = lambda df: df.peso.fillna(value = df.peso.mean())\n",
    "    )\n",
    "    .missing.scatter_imputation_plot(\n",
    "        x = \"height\", \n",
    "        y = \"peso\"\n",
    "    )\n",
    ")"
   ]
  },
  {
   "cell_type": "code",
   "execution_count": null,
   "metadata": {
    "cell_id": "982990e11b3a4f57981bff4db630a627",
    "deepnote_app_coordinates": {
     "h": 5,
     "w": 12,
     "x": 0,
     "y": 0
    },
    "deepnote_cell_type": "code",
    "deepnote_to_be_reexecuted": false,
    "execution_millis": 883,
    "execution_start": 1659727199273,
    "output_cleared": true,
    "source_hash": "a87158d5",
    "tags": []
   },
   "outputs": [],
   "source": []
  },
  {
   "cell_type": "markdown",
   "metadata": {
    "cell_id": "a6dda5bfc00d47c191b5f429f98c6179",
    "deepnote_app_coordinates": {
     "h": 5,
     "w": 12,
     "x": 0,
     "y": 725
    },
    "deepnote_cell_height": 110,
    "deepnote_cell_type": "markdown",
    "tags": []
   },
   "source": [
    "## Imputación por llenado hacia atrás e imputación por llenado hacia adelante"
   ]
  },
  {
   "cell_type": "markdown",
   "metadata": {
    "cell_id": "ff0b50955c2d495e8822608d09083819",
    "deepnote_app_coordinates": {
     "h": 5,
     "w": 12,
     "x": 0,
     "y": 0
    },
    "deepnote_cell_height": 62.65625,
    "deepnote_cell_type": "markdown",
    "tags": []
   },
   "source": [
    "### `fillna()` vs `ffill()` o `bfill()`"
   ]
  },
  {
   "cell_type": "code",
   "execution_count": null,
   "metadata": {
    "cell_id": "02b9212a375d426481b0473fd0ddc4bb",
    "deepnote_app_coordinates": {
     "h": 4,
     "w": 12,
     "x": 0,
     "y": 731
    },
    "deepnote_cell_type": "code",
    "deepnote_to_be_reexecuted": false,
    "execution_millis": 29,
    "execution_start": 1659727200152,
    "output_cleared": true,
    "source_hash": "51090d53",
    "tags": []
   },
   "outputs": [],
   "source": []
  },
  {
   "cell_type": "code",
   "execution_count": null,
   "metadata": {
    "cell_id": "67d45fa2686b495f900b5d0f991f0f01",
    "deepnote_app_coordinates": {
     "h": 5,
     "w": 12,
     "x": 0,
     "y": 0
    },
    "deepnote_cell_type": "code",
    "deepnote_to_be_reexecuted": false,
    "execution_millis": 32,
    "execution_start": 1659727200182,
    "output_cleared": true,
    "source_hash": "bd0ddbbd",
    "tags": []
   },
   "outputs": [],
   "source": []
  },
  {
   "cell_type": "markdown",
   "metadata": {
    "cell_id": "f383c5ffebaf4fd2b004a44d1537b534",
    "deepnote_app_coordinates": {
     "h": 5,
     "w": 12,
     "x": 0,
     "y": 0
    },
    "deepnote_cell_height": 103.0625,
    "deepnote_cell_type": "markdown",
    "tags": []
   },
   "source": [
    "#### Recomendaciones al imputar valores utilizando `ffill()` o `bfill()`\n",
    "\n",
    "> Imputación dentro de dominios e imputación a través de variables correlacionadas"
   ]
  },
  {
   "cell_type": "code",
   "execution_count": null,
   "metadata": {
    "cell_id": "4667880ea86a41109a640dfaa89b35cc",
    "deepnote_app_coordinates": {
     "h": 5,
     "w": 12,
     "x": 0,
     "y": 0
    },
    "deepnote_cell_type": "code",
    "deepnote_to_be_reexecuted": false,
    "execution_millis": 42,
    "execution_start": 1659727200217,
    "output_cleared": true,
    "source_hash": "db0d0389",
    "tags": []
   },
   "outputs": [],
   "source": []
  },
  {
   "cell_type": "markdown",
   "metadata": {
    "cell_id": "ed69405812b84d93a5bbd24c9d48473a",
    "deepnote_app_coordinates": {
     "h": 3,
     "w": 12,
     "x": 0,
     "y": 736
    },
    "deepnote_cell_height": 70,
    "deepnote_cell_type": "markdown",
    "tags": []
   },
   "source": [
    "## Imputación por interpolación"
   ]
  },
  {
   "cell_type": "code",
   "execution_count": null,
   "metadata": {
    "cell_id": "cf31bef4854a41cc8d035407b11435be",
    "deepnote_app_coordinates": {
     "h": 5,
     "w": 12,
     "x": 0,
     "y": 0
    },
    "deepnote_cell_type": "code",
    "deepnote_to_be_reexecuted": false,
    "execution_millis": 346,
    "execution_start": 1659727200264,
    "output_cleared": true,
    "source_hash": "6953e83d",
    "tags": []
   },
   "outputs": [],
   "source": []
  },
  {
   "cell_type": "code",
   "execution_count": null,
   "metadata": {
    "cell_id": "c277c94013154b2b9d38ad4d230030c8",
    "deepnote_app_coordinates": {
     "h": 5,
     "w": 12,
     "x": 0,
     "y": 0
    },
    "deepnote_cell_type": "code",
    "deepnote_to_be_reexecuted": false,
    "execution_millis": 432,
    "execution_start": 1659727200614,
    "output_cleared": true,
    "source_hash": "c88b8bc",
    "tags": []
   },
   "outputs": [],
   "source": []
  },
  {
   "cell_type": "code",
   "execution_count": null,
   "metadata": {
    "cell_id": "7aca4ae565aa40d293e2529081614242",
    "deepnote_app_coordinates": {
     "h": 5,
     "w": 12,
     "x": 0,
     "y": 0
    },
    "deepnote_cell_type": "code",
    "deepnote_to_be_reexecuted": false,
    "execution_millis": 1054,
    "execution_start": 1659727201125,
    "output_cleared": true,
    "source_hash": "39c0b06",
    "tags": []
   },
   "outputs": [],
   "source": []
  },
  {
   "cell_type": "code",
   "execution_count": null,
   "metadata": {
    "cell_id": "feadfc0c5fbb40f2a0c379b641f9bdf1",
    "deepnote_app_coordinates": {
     "h": 5,
     "w": 12,
     "x": 0,
     "y": 0
    },
    "deepnote_cell_type": "code",
    "deepnote_to_be_reexecuted": false,
    "execution_millis": 761,
    "execution_start": 1659727201433,
    "output_cleared": true,
    "source_hash": "be362e8f",
    "tags": []
   },
   "outputs": [],
   "source": []
  },
  {
   "cell_type": "code",
   "execution_count": null,
   "metadata": {
    "cell_id": "7636caeb7f3a4fe0a8449f3d9fe86bff",
    "deepnote_app_coordinates": {
     "h": 5,
     "w": 12,
     "x": 0,
     "y": 0
    },
    "deepnote_cell_type": "code",
    "deepnote_to_be_reexecuted": false,
    "execution_millis": 372,
    "execution_start": 1659727201961,
    "output_cleared": true,
    "source_hash": "2b44ced0",
    "tags": []
   },
   "outputs": [],
   "source": []
  },
  {
   "cell_type": "code",
   "execution_count": null,
   "metadata": {
    "cell_id": "300acf38bf5b498ab17370171dae5377",
    "deepnote_app_coordinates": {
     "h": 5,
     "w": 12,
     "x": 0,
     "y": 0
    },
    "deepnote_cell_type": "code",
    "deepnote_to_be_reexecuted": false,
    "execution_millis": 373,
    "execution_start": 1659727202345,
    "output_cleared": true,
    "source_hash": "2455a646",
    "tags": []
   },
   "outputs": [],
   "source": []
  },
  {
   "cell_type": "code",
   "execution_count": null,
   "metadata": {
    "cell_id": "a495ec19f48d4914804e2a16b02d3bca",
    "deepnote_cell_type": "code",
    "deepnote_to_be_reexecuted": false,
    "execution_millis": 6,
    "execution_start": 1659727202724,
    "output_cleared": true,
    "source_hash": "8d0ae142",
    "tags": []
   },
   "outputs": [],
   "source": []
  },
  {
   "cell_type": "code",
   "execution_count": null,
   "metadata": {
    "cell_id": "cf52318ee2f64bbabd165fcd271756ca",
    "deepnote_cell_type": "code",
    "deepnote_to_be_reexecuted": false,
    "execution_millis": 31,
    "execution_start": 1659727202759,
    "output_cleared": true,
    "source_hash": "c6bfe01f",
    "tags": []
   },
   "outputs": [],
   "source": []
  },
  {
   "cell_type": "markdown",
   "metadata": {
    "cell_id": "3964c4cceda047f3a67bc4e642e4aec9",
    "deepnote_app_coordinates": {
     "h": 5,
     "w": 12,
     "x": 0,
     "y": 745
    },
    "deepnote_cell_height": 110,
    "deepnote_cell_type": "markdown",
    "tags": []
   },
   "source": [
    "## Imputación por algoritmo de vecinos más cercanos (KNN)"
   ]
  },
  {
   "cell_type": "code",
   "execution_count": null,
   "metadata": {
    "cell_id": "ffa337d6873d45b98827c46f9face061",
    "deepnote_cell_type": "code",
    "deepnote_to_be_reexecuted": false,
    "execution_millis": 58,
    "execution_start": 1659727202793,
    "output_cleared": true,
    "source_hash": "177e988e",
    "tags": []
   },
   "outputs": [],
   "source": []
  },
  {
   "cell_type": "code",
   "execution_count": null,
   "metadata": {
    "cell_id": "9d396f7b8ca240a08d85c14c5e6c63ba",
    "deepnote_app_coordinates": {
     "h": 5,
     "w": 12,
     "x": 0,
     "y": 0
    },
    "deepnote_cell_type": "code",
    "deepnote_to_be_reexecuted": false,
    "execution_millis": 98,
    "execution_start": 1659727202853,
    "output_cleared": true,
    "source_hash": "f092304c",
    "tags": []
   },
   "outputs": [],
   "source": []
  },
  {
   "cell_type": "code",
   "execution_count": null,
   "metadata": {
    "cell_id": "45708e5ec6914454a8268e4210aefc21",
    "deepnote_app_coordinates": {
     "h": 4,
     "w": 12,
     "x": 0,
     "y": 760
    },
    "deepnote_cell_type": "code",
    "deepnote_to_be_reexecuted": false,
    "execution_millis": 1679,
    "execution_start": 1659727202959,
    "output_cleared": true,
    "source_hash": "de54d66a",
    "tags": []
   },
   "outputs": [],
   "source": []
  },
  {
   "cell_type": "code",
   "execution_count": null,
   "metadata": {
    "cell_id": "5cf1b5e64dda4862877a4989772fa082",
    "deepnote_app_coordinates": {
     "h": 5,
     "w": 12,
     "x": 0,
     "y": 0
    },
    "deepnote_cell_type": "code",
    "deepnote_to_be_reexecuted": false,
    "execution_millis": 531,
    "execution_start": 1659727204607,
    "output_cleared": true,
    "source_hash": "9c9a25e2",
    "tags": []
   },
   "outputs": [],
   "source": []
  },
  {
   "cell_type": "markdown",
   "metadata": {
    "cell_id": "0bd689cf65924b07a3d60dadacfbfb6c",
    "deepnote_app_coordinates": {
     "h": 5,
     "w": 12,
     "x": 0,
     "y": 0
    },
    "deepnote_cell_height": 62,
    "deepnote_cell_type": "markdown",
    "tags": []
   },
   "source": [
    "### Ordenamiento por cantidad de variables faltantes"
   ]
  },
  {
   "cell_type": "code",
   "execution_count": null,
   "metadata": {
    "cell_id": "a9df7e223e604390a12deb29796b96c2",
    "deepnote_app_coordinates": {
     "h": 5,
     "w": 12,
     "x": 0,
     "y": 0
    },
    "deepnote_cell_type": "code",
    "deepnote_to_be_reexecuted": false,
    "execution_millis": 1625,
    "execution_start": 1659727205105,
    "output_cleared": true,
    "source_hash": "1a066d31",
    "tags": []
   },
   "outputs": [],
   "source": []
  },
  {
   "cell_type": "code",
   "execution_count": null,
   "metadata": {
    "cell_id": "039fb17496054367ba7dad6bfb8fc294",
    "deepnote_cell_type": "code",
    "deepnote_to_be_reexecuted": false,
    "execution_millis": 1278,
    "execution_start": 1659727206732,
    "output_cleared": true,
    "source_hash": "9c9a25e2",
    "tags": []
   },
   "outputs": [],
   "source": []
  },
  {
   "cell_type": "markdown",
   "metadata": {
    "cell_id": "6bcb2316e0fb44e58009aac2872f0f26",
    "deepnote_app_coordinates": {
     "h": 5,
     "w": 12,
     "x": 0,
     "y": 765
    },
    "deepnote_cell_height": 70,
    "deepnote_cell_type": "markdown",
    "tags": []
   },
   "source": [
    "## Imputación basada en modelos"
   ]
  },
  {
   "cell_type": "code",
   "execution_count": null,
   "metadata": {
    "cell_id": "ce9d3ff238504387b15af7798b085564",
    "deepnote_app_coordinates": {
     "h": 5,
     "w": 12,
     "x": 0,
     "y": 0
    },
    "deepnote_cell_type": "code",
    "deepnote_to_be_reexecuted": false,
    "execution_millis": 796,
    "execution_start": 1659727207214,
    "output_cleared": true,
    "source_hash": "e44b3376",
    "tags": []
   },
   "outputs": [],
   "source": []
  },
  {
   "cell_type": "code",
   "execution_count": null,
   "metadata": {
    "cell_id": "163d8b5b29f54ee1a7a801847be789af",
    "deepnote_app_coordinates": {
     "h": 4,
     "w": 12,
     "x": 0,
     "y": 771
    },
    "deepnote_cell_type": "code",
    "deepnote_to_be_reexecuted": false,
    "execution_millis": 7,
    "execution_start": 1659727207319,
    "output_cleared": true,
    "source_hash": "8f99e490",
    "tags": []
   },
   "outputs": [],
   "source": []
  },
  {
   "cell_type": "code",
   "execution_count": null,
   "metadata": {
    "cell_id": "19d6d32326a44dc887d4be099a9cb9ea",
    "deepnote_app_coordinates": {
     "h": 5,
     "w": 12,
     "x": 0,
     "y": 0
    },
    "deepnote_cell_type": "code",
    "deepnote_to_be_reexecuted": false,
    "execution_millis": 674,
    "execution_start": 1659727207336,
    "output_cleared": true,
    "source_hash": "1c5fb9c5",
    "tags": []
   },
   "outputs": [],
   "source": []
  },
  {
   "cell_type": "code",
   "execution_count": null,
   "metadata": {
    "cell_id": "3d4cd50ba6b24484889aafed715dd33c",
    "deepnote_app_coordinates": {
     "h": 5,
     "w": 12,
     "x": 0,
     "y": 0
    },
    "deepnote_cell_type": "code",
    "deepnote_to_be_reexecuted": false,
    "execution_millis": 626,
    "execution_start": 1659727207386,
    "output_cleared": true,
    "source_hash": "84ca1e14",
    "tags": []
   },
   "outputs": [],
   "source": []
  },
  {
   "cell_type": "code",
   "execution_count": null,
   "metadata": {
    "cell_id": "b2d7d9220d6846ddaf8e0e74573acf27",
    "deepnote_app_coordinates": {
     "h": 5,
     "w": 12,
     "x": 0,
     "y": 0
    },
    "deepnote_cell_type": "code",
    "deepnote_to_be_reexecuted": false,
    "execution_millis": 589,
    "execution_start": 1659727207427,
    "output_cleared": true,
    "source_hash": "265c06ae",
    "tags": []
   },
   "outputs": [],
   "source": []
  },
  {
   "cell_type": "markdown",
   "metadata": {
    "cell_id": "39ffc1bfc6e74c40a43e15d244465a28",
    "deepnote_app_coordinates": {
     "h": 5,
     "w": 12,
     "x": 0,
     "y": 787
    },
    "deepnote_cell_height": 110,
    "deepnote_cell_type": "markdown",
    "tags": []
   },
   "source": [
    "## Imputaciones Múltiples por Ecuaciones Encadenadas (MICE)"
   ]
  },
  {
   "cell_type": "code",
   "execution_count": null,
   "metadata": {
    "cell_id": "420eaf4274db4b88bfb2f33968b2bf48",
    "deepnote_app_coordinates": {
     "h": 4,
     "w": 12,
     "x": 0,
     "y": 793
    },
    "deepnote_cell_type": "code",
    "deepnote_to_be_reexecuted": false,
    "execution_millis": 1031,
    "execution_start": 1659727825129,
    "output_cleared": true,
    "source_hash": "1ebec24e",
    "tags": []
   },
   "outputs": [],
   "source": []
  },
  {
   "cell_type": "markdown",
   "metadata": {
    "cell_id": "dd07f9d82b844513abfcac774446a709",
    "deepnote_app_coordinates": {
     "h": 5,
     "w": 12,
     "x": 0,
     "y": 0
    },
    "deepnote_cell_height": 70,
    "deepnote_cell_type": "markdown",
    "tags": []
   },
   "source": [
    "## Transformación inversa de los datos"
   ]
  },
  {
   "cell_type": "code",
   "execution_count": null,
   "metadata": {
    "cell_id": "fe4ef416e17b432197230b73016ac681",
    "deepnote_app_coordinates": {
     "h": 5,
     "w": 12,
     "x": 0,
     "y": 0
    },
    "deepnote_cell_type": "code",
    "deepnote_to_be_reexecuted": false,
    "execution_millis": 0,
    "execution_start": 1659728732946,
    "output_cleared": true,
    "source_hash": "745f5920",
    "tags": []
   },
   "outputs": [],
   "source": []
  },
  {
   "cell_type": "code",
   "execution_count": null,
   "metadata": {
    "cell_id": "d53dada404b945a98593bdcf86317169",
    "deepnote_app_coordinates": {
     "h": 5,
     "w": 12,
     "x": 0,
     "y": 0
    },
    "deepnote_cell_type": "code",
    "deepnote_to_be_reexecuted": false,
    "execution_millis": 832,
    "execution_start": 1659728883725,
    "output_cleared": true,
    "source_hash": "f6a6743e",
    "tags": []
   },
   "outputs": [],
   "source": []
  },
  {
   "cell_type": "code",
   "execution_count": null,
   "metadata": {
    "cell_id": "ce2773a899c0491a8c0bf88d5f41d530",
    "deepnote_app_coordinates": {
     "h": 5,
     "w": 12,
     "x": 0,
     "y": 0
    },
    "deepnote_cell_type": "code",
    "deepnote_to_be_reexecuted": false,
    "execution_millis": 21,
    "execution_start": 1659728933546,
    "output_cleared": true,
    "source_hash": "a24a687d",
    "tags": []
   },
   "outputs": [],
   "source": []
  },
  {
   "cell_type": "code",
   "execution_count": null,
   "metadata": {
    "cell_id": "d66d80e47c7b4dd3b89b62b21f6efd42",
    "deepnote_app_coordinates": {
     "h": 5,
     "w": 12,
     "x": 0,
     "y": 0
    },
    "deepnote_cell_type": "code",
    "deepnote_to_be_reexecuted": false,
    "execution_millis": 41,
    "execution_start": 1659728959616,
    "output_cleared": true,
    "source_hash": "6c99a08d",
    "tags": []
   },
   "outputs": [],
   "source": []
  },
  {
   "cell_type": "code",
   "execution_count": null,
   "metadata": {
    "cell_id": "aa2678b70cf54a8ea9bd3ad850cc3a39",
    "deepnote_cell_type": "code",
    "deepnote_to_be_reexecuted": false,
    "execution_millis": 24,
    "execution_start": 1659729006551,
    "output_cleared": true,
    "source_hash": "fbd5488c",
    "tags": []
   },
   "outputs": [],
   "source": []
  },
  {
   "cell_type": "markdown",
   "metadata": {
    "cell_id": "468002f8528f4239bd9b0efd669a4c40",
    "deepnote_app_coordinates": {
     "h": 5,
     "w": 12,
     "x": 0,
     "y": 0
    },
    "deepnote_cell_height": 110,
    "deepnote_cell_type": "markdown",
    "tags": []
   },
   "source": [
    "## Continúa aprendiendo sobre el manejo de valores faltantes"
   ]
  },
  {
   "cell_type": "markdown",
   "metadata": {
    "cell_id": "73d353024d654eabbd6d8c82a4fbdc24",
    "deepnote_app_coordinates": {
     "h": 5,
     "w": 12,
     "x": 0,
     "y": 0
    },
    "deepnote_cell_height": 860.25,
    "deepnote_cell_type": "markdown",
    "tags": []
   },
   "source": [
    "<div class=\"alert alert-success\">\n",
    "    <b style=\"font-size: 1.5em;\">✅ ¡Felicidades por terminar el curso!</b>\n",
    "    <p>\n",
    "    ¡Tu progreso es increíble! ¡Ahora eres capaz de llevar tus análisis al siguiente nivel! La barrera de los valores faltantes ya no es una limitante extrema para tu trabajo. Tú puedes explorar valores faltantes, eliminarlos e imputarlos siendo consciente de las ventajas y desventajas de cada método elegido. ¡Fantástico!\n",
    "    </p>\n",
    "    <p>\n",
    "    <b>¿Cómo puedo continuar mi aprendizaje en el análisis de valores faltantes?</b>\n",
    "    Poner en práctica lo aprendido es una excelente opción. Por lo tanto, te recomiendo repetir este curso utilizando la totalidad de los datos del <i>National Health and Nutrition Examination Survey</i>. Con este proyecto, serás capaz de explorar y analizar una cantidad de valores faltantes variadas. Podrás probar distintos algoritmos y estrategias. \n",
    "    </p>\n",
    "    <p>\n",
    "    De tal forma de que, una vez consigas tu conjunto de datos final, puedas proceder a la exploración definitiva del conjunto de datos para extraer ideas y respuestas a preguntas de tu interés. Incluso, y por qué no, podrías explorar la posibilidad de crear modelos predictivos para la diabetes. Las opciones son ilimitadas. Bienvenido al mundo de la Ciencia de Datos.\n",
    "    </p>\n",
    "    <p>\n",
    "    Con mucha alegría por tu logro,\n",
    "    Jesús Vélez Santiago\n",
    "    </p>\n",
    "</div>"
   ]
  },
  {
   "cell_type": "markdown",
   "metadata": {
    "cell_id": "caf513e7978440d3bb192182687da666",
    "deepnote_app_coordinates": {
     "h": 5,
     "w": 12,
     "x": 0,
     "y": 649
    },
    "deepnote_cell_height": 70,
    "deepnote_cell_type": "markdown",
    "tags": []
   },
   "source": [
    "## Información de sesión"
   ]
  },
  {
   "cell_type": "code",
   "execution_count": null,
   "metadata": {
    "cell_id": "1246439fb41b4320b839aca8cb842441",
    "deepnote_app_coordinates": {
     "h": 5,
     "w": 12,
     "x": 0,
     "y": 655
    },
    "deepnote_cell_type": "code",
    "deepnote_to_be_reexecuted": false,
    "execution_millis": 295,
    "execution_start": 1659643019430,
    "output_cleared": true,
    "source_hash": "e8587130",
    "tags": []
   },
   "outputs": [],
   "source": [
    "session_info.show()"
   ]
  }
 ],
 "metadata": {
  "deepnote_app_layout": "article",
  "deepnote_notebook_id": "cd01c1c4ab634b0f9df948144178c6ba",
  "kernelspec": {
   "display_name": "venv (3.13.5)",
   "language": "python",
   "name": "python3"
  },
  "language_info": {
   "codemirror_mode": {
    "name": "ipython",
    "version": 3
   },
   "file_extension": ".py",
   "mimetype": "text/x-python",
   "name": "python",
   "nbconvert_exporter": "python",
   "pygments_lexer": "ipython3",
   "version": "3.13.5"
  }
 },
 "nbformat": "4",
 "nbformat_minor": "0"
}
